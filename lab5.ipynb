{
 "cells": [
  {
   "cell_type": "code",
   "execution_count": 15,
   "id": "86d08e2f-42a5-4691-9680-e33d4dc04724",
   "metadata": {
    "ExecuteTime": {
     "end_time": "2024-10-30T08:11:25.994735799Z",
     "start_time": "2024-10-30T08:11:25.983598804Z"
    }
   },
   "outputs": [],
   "source": [
    "import random\n",
    "\n",
    "import numpy as np\n",
    "import pandas as pd\n",
    "import matplotlib.pyplot as plt\n",
    "import plotly.express as px\n",
    "import plotly.graph_objects as go\n",
    "from plotly.subplots import make_subplots\n",
    "from tqdm import tqdm\n",
    "import math\n",
    "from typing import *\n",
    "from dataclasses import dataclass, field\n",
    "\n",
    "plotly_margin = dict(l=0, r=0, t=0, b=0)"
   ]
  },
  {
   "cell_type": "markdown",
   "id": "5f9274937cece4d3",
   "metadata": {
    "collapsed": false
   },
   "source": [
    "Обзор датасета"
   ]
  },
  {
   "cell_type": "code",
   "execution_count": 16,
   "id": "cc98fb05-050d-4515-aa64-80aac6a0f841",
   "metadata": {
    "ExecuteTime": {
     "end_time": "2024-10-30T08:11:26.607109565Z",
     "start_time": "2024-10-30T08:11:26.528116733Z"
    }
   },
   "outputs": [
    {
     "data": {
      "text/plain": "       edible cap_shape cap_surface cap_color bruises  odor gill_attachment  \\\ncount    8124      8124        8124      8124    8124  8124            8124   \nunique      2         6           4        10       2     9               2   \ntop         e         x           y         n       f     n               f   \nfreq     4208      3656        3244      2284    4748  3528            7914   \n\n       gill_spacing gill_size gill_color  ... stalk_surface_below_ring  \\\ncount          8124      8124       8124  ...                     8124   \nunique            2         2         12  ...                        4   \ntop               c         b          b  ...                        s   \nfreq           6812      5612       1728  ...                     4936   \n\n       stalk_color_above_ring stalk_color_below_ring veil_type veil_color  \\\ncount                    8124                   8124      8124       8124   \nunique                      9                      9         1          4   \ntop                         w                      w         p          w   \nfreq                     4464                   4384      8124       7924   \n\n       ring_number ring_type spore_print_color population habitat  \ncount         8124      8124              8124       8124    8124  \nunique           3         5                 9          6       7  \ntop              o         p                 w          v       d  \nfreq          7488      3968              2388       4040    3148  \n\n[4 rows x 23 columns]",
      "text/html": "<div>\n<style scoped>\n    .dataframe tbody tr th:only-of-type {\n        vertical-align: middle;\n    }\n\n    .dataframe tbody tr th {\n        vertical-align: top;\n    }\n\n    .dataframe thead th {\n        text-align: right;\n    }\n</style>\n<table border=\"1\" class=\"dataframe\">\n  <thead>\n    <tr style=\"text-align: right;\">\n      <th></th>\n      <th>edible</th>\n      <th>cap_shape</th>\n      <th>cap_surface</th>\n      <th>cap_color</th>\n      <th>bruises</th>\n      <th>odor</th>\n      <th>gill_attachment</th>\n      <th>gill_spacing</th>\n      <th>gill_size</th>\n      <th>gill_color</th>\n      <th>...</th>\n      <th>stalk_surface_below_ring</th>\n      <th>stalk_color_above_ring</th>\n      <th>stalk_color_below_ring</th>\n      <th>veil_type</th>\n      <th>veil_color</th>\n      <th>ring_number</th>\n      <th>ring_type</th>\n      <th>spore_print_color</th>\n      <th>population</th>\n      <th>habitat</th>\n    </tr>\n  </thead>\n  <tbody>\n    <tr>\n      <th>count</th>\n      <td>8124</td>\n      <td>8124</td>\n      <td>8124</td>\n      <td>8124</td>\n      <td>8124</td>\n      <td>8124</td>\n      <td>8124</td>\n      <td>8124</td>\n      <td>8124</td>\n      <td>8124</td>\n      <td>...</td>\n      <td>8124</td>\n      <td>8124</td>\n      <td>8124</td>\n      <td>8124</td>\n      <td>8124</td>\n      <td>8124</td>\n      <td>8124</td>\n      <td>8124</td>\n      <td>8124</td>\n      <td>8124</td>\n    </tr>\n    <tr>\n      <th>unique</th>\n      <td>2</td>\n      <td>6</td>\n      <td>4</td>\n      <td>10</td>\n      <td>2</td>\n      <td>9</td>\n      <td>2</td>\n      <td>2</td>\n      <td>2</td>\n      <td>12</td>\n      <td>...</td>\n      <td>4</td>\n      <td>9</td>\n      <td>9</td>\n      <td>1</td>\n      <td>4</td>\n      <td>3</td>\n      <td>5</td>\n      <td>9</td>\n      <td>6</td>\n      <td>7</td>\n    </tr>\n    <tr>\n      <th>top</th>\n      <td>e</td>\n      <td>x</td>\n      <td>y</td>\n      <td>n</td>\n      <td>f</td>\n      <td>n</td>\n      <td>f</td>\n      <td>c</td>\n      <td>b</td>\n      <td>b</td>\n      <td>...</td>\n      <td>s</td>\n      <td>w</td>\n      <td>w</td>\n      <td>p</td>\n      <td>w</td>\n      <td>o</td>\n      <td>p</td>\n      <td>w</td>\n      <td>v</td>\n      <td>d</td>\n    </tr>\n    <tr>\n      <th>freq</th>\n      <td>4208</td>\n      <td>3656</td>\n      <td>3244</td>\n      <td>2284</td>\n      <td>4748</td>\n      <td>3528</td>\n      <td>7914</td>\n      <td>6812</td>\n      <td>5612</td>\n      <td>1728</td>\n      <td>...</td>\n      <td>4936</td>\n      <td>4464</td>\n      <td>4384</td>\n      <td>8124</td>\n      <td>7924</td>\n      <td>7488</td>\n      <td>3968</td>\n      <td>2388</td>\n      <td>4040</td>\n      <td>3148</td>\n    </tr>\n  </tbody>\n</table>\n<p>4 rows × 23 columns</p>\n</div>"
     },
     "execution_count": 16,
     "metadata": {},
     "output_type": "execute_result"
    }
   ],
   "source": [
    "df_in = pd.read_csv(\"data.csv\", dtype='category')\n",
    "df_in.describe()"
   ]
  },
  {
   "cell_type": "markdown",
   "id": "22e03909fee3a548",
   "metadata": {
    "collapsed": false
   },
   "source": [
    "По документации, могут отсутствовать значения `stalk_root`, они отмечены `?`. Их порядка 30%, удалить не получится, заменим на наиболее частый класс."
   ]
  },
  {
   "cell_type": "code",
   "execution_count": 17,
   "id": "3b6a7f77cba89890",
   "metadata": {
    "collapsed": false,
    "ExecuteTime": {
     "end_time": "2024-10-30T08:11:27.885112218Z",
     "start_time": "2024-10-30T08:11:27.868675370Z"
    }
   },
   "outputs": [
    {
     "name": "stdout",
     "output_type": "stream",
     "text": [
      "0.3052683407188577\n"
     ]
    }
   ],
   "source": [
    "print((df_in.stalk_root == \"?\").sum() / df_in.shape[0])\n",
    "df_in.stalk_root = df_in.stalk_root.where(df_in.stalk_root != \"?\", df_in.stalk_root.mode()[0])"
   ]
  },
  {
   "cell_type": "markdown",
   "id": "ce3c0d700ddc2aa7",
   "metadata": {
    "collapsed": false
   },
   "source": [
    "Приведем в численный вид признаки "
   ]
  },
  {
   "cell_type": "code",
   "execution_count": 18,
   "outputs": [
    {
     "data": {
      "text/plain": "   edible  cap_shape  cap_surface  cap_color  bruises  odor  gill_attachment  \\\n0       1          5            2          4        1     6                1   \n1       0          5            2          9        1     0                1   \n2       0          0            2          8        1     3                1   \n3       1          5            3          8        1     6                1   \n4       0          5            2          3        0     5                1   \n\n   gill_spacing  gill_size  gill_color  ...  stalk_surface_below_ring  \\\n0             0          1           4  ...                         2   \n1             0          0           4  ...                         2   \n2             0          0           5  ...                         2   \n3             0          1           5  ...                         2   \n4             1          0           4  ...                         2   \n\n   stalk_color_above_ring  stalk_color_below_ring  veil_type  veil_color  \\\n0                       7                       7          0           2   \n1                       7                       7          0           2   \n2                       7                       7          0           2   \n3                       7                       7          0           2   \n4                       7                       7          0           2   \n\n   ring_number  ring_type  spore_print_color  population  habitat  \n0            1          4                  2           3        5  \n1            1          4                  3           2        1  \n2            1          4                  3           2        3  \n3            1          4                  2           3        5  \n4            1          0                  3           0        1  \n\n[5 rows x 23 columns]",
      "text/html": "<div>\n<style scoped>\n    .dataframe tbody tr th:only-of-type {\n        vertical-align: middle;\n    }\n\n    .dataframe tbody tr th {\n        vertical-align: top;\n    }\n\n    .dataframe thead th {\n        text-align: right;\n    }\n</style>\n<table border=\"1\" class=\"dataframe\">\n  <thead>\n    <tr style=\"text-align: right;\">\n      <th></th>\n      <th>edible</th>\n      <th>cap_shape</th>\n      <th>cap_surface</th>\n      <th>cap_color</th>\n      <th>bruises</th>\n      <th>odor</th>\n      <th>gill_attachment</th>\n      <th>gill_spacing</th>\n      <th>gill_size</th>\n      <th>gill_color</th>\n      <th>...</th>\n      <th>stalk_surface_below_ring</th>\n      <th>stalk_color_above_ring</th>\n      <th>stalk_color_below_ring</th>\n      <th>veil_type</th>\n      <th>veil_color</th>\n      <th>ring_number</th>\n      <th>ring_type</th>\n      <th>spore_print_color</th>\n      <th>population</th>\n      <th>habitat</th>\n    </tr>\n  </thead>\n  <tbody>\n    <tr>\n      <th>0</th>\n      <td>1</td>\n      <td>5</td>\n      <td>2</td>\n      <td>4</td>\n      <td>1</td>\n      <td>6</td>\n      <td>1</td>\n      <td>0</td>\n      <td>1</td>\n      <td>4</td>\n      <td>...</td>\n      <td>2</td>\n      <td>7</td>\n      <td>7</td>\n      <td>0</td>\n      <td>2</td>\n      <td>1</td>\n      <td>4</td>\n      <td>2</td>\n      <td>3</td>\n      <td>5</td>\n    </tr>\n    <tr>\n      <th>1</th>\n      <td>0</td>\n      <td>5</td>\n      <td>2</td>\n      <td>9</td>\n      <td>1</td>\n      <td>0</td>\n      <td>1</td>\n      <td>0</td>\n      <td>0</td>\n      <td>4</td>\n      <td>...</td>\n      <td>2</td>\n      <td>7</td>\n      <td>7</td>\n      <td>0</td>\n      <td>2</td>\n      <td>1</td>\n      <td>4</td>\n      <td>3</td>\n      <td>2</td>\n      <td>1</td>\n    </tr>\n    <tr>\n      <th>2</th>\n      <td>0</td>\n      <td>0</td>\n      <td>2</td>\n      <td>8</td>\n      <td>1</td>\n      <td>3</td>\n      <td>1</td>\n      <td>0</td>\n      <td>0</td>\n      <td>5</td>\n      <td>...</td>\n      <td>2</td>\n      <td>7</td>\n      <td>7</td>\n      <td>0</td>\n      <td>2</td>\n      <td>1</td>\n      <td>4</td>\n      <td>3</td>\n      <td>2</td>\n      <td>3</td>\n    </tr>\n    <tr>\n      <th>3</th>\n      <td>1</td>\n      <td>5</td>\n      <td>3</td>\n      <td>8</td>\n      <td>1</td>\n      <td>6</td>\n      <td>1</td>\n      <td>0</td>\n      <td>1</td>\n      <td>5</td>\n      <td>...</td>\n      <td>2</td>\n      <td>7</td>\n      <td>7</td>\n      <td>0</td>\n      <td>2</td>\n      <td>1</td>\n      <td>4</td>\n      <td>2</td>\n      <td>3</td>\n      <td>5</td>\n    </tr>\n    <tr>\n      <th>4</th>\n      <td>0</td>\n      <td>5</td>\n      <td>2</td>\n      <td>3</td>\n      <td>0</td>\n      <td>5</td>\n      <td>1</td>\n      <td>1</td>\n      <td>0</td>\n      <td>4</td>\n      <td>...</td>\n      <td>2</td>\n      <td>7</td>\n      <td>7</td>\n      <td>0</td>\n      <td>2</td>\n      <td>1</td>\n      <td>0</td>\n      <td>3</td>\n      <td>0</td>\n      <td>1</td>\n    </tr>\n  </tbody>\n</table>\n<p>5 rows × 23 columns</p>\n</div>"
     },
     "execution_count": 18,
     "metadata": {},
     "output_type": "execute_result"
    }
   ],
   "source": [
    "df_in = df_in.apply(lambda x: x.cat.codes)\n",
    "df_in.head()"
   ],
   "metadata": {
    "collapsed": false,
    "ExecuteTime": {
     "end_time": "2024-10-30T08:11:29.137050020Z",
     "start_time": "2024-10-30T08:11:29.088519257Z"
    }
   },
   "id": "9ee783fd3687e097"
  },
  {
   "cell_type": "markdown",
   "id": "c5ddd292c15739cb",
   "metadata": {
    "collapsed": false
   },
   "source": [
    "Разделим тренировочную и тестовую выборку"
   ]
  },
  {
   "cell_type": "code",
   "execution_count": 19,
   "id": "a5b29716-12eb-488a-94fe-bcc889c45c83",
   "metadata": {
    "ExecuteTime": {
     "end_time": "2024-10-30T08:11:31.338104538Z",
     "start_time": "2024-10-30T08:11:31.288811106Z"
    }
   },
   "outputs": [
    {
     "name": "stdout",
     "output_type": "stream",
     "text": [
      "(5687, 23) (2437, 23)\n"
     ]
    }
   ],
   "source": [
    "train_size = 0.7\n",
    "\n",
    "df_train = df_in.sample(frac=train_size, random_state=42)\n",
    "df_test = df_in.drop(df_train.index)\n",
    "\n",
    "x_train, y_train = df_train.drop('edible', axis=1), df_train['edible']\n",
    "x_test, y_test = df_test.drop('edible', axis=1), df_test['edible']\n",
    "\n",
    "print(df_train.shape, df_test.shape)"
   ]
  },
  {
   "cell_type": "markdown",
   "source": [
    "Определим метрики"
   ],
   "metadata": {
    "collapsed": false
   },
   "id": "c43760e461cbc7a8"
  },
  {
   "cell_type": "code",
   "execution_count": 20,
   "outputs": [],
   "source": [
    "def stat(y, y_pred):\n",
    "    m = [\n",
    "        [np.sum((y == r) & (y_pred == p)) for r in range(2)]\n",
    "        for p in range(2)\n",
    "    ]  # m[pred][true]\n",
    "    return dict(\n",
    "        tp=m[1][1],\n",
    "        tn=m[0][0],\n",
    "        fp=m[1][0],\n",
    "        fn=m[0][1],\n",
    "        n=y.shape[0],\n",
    "        mat=m\n",
    "    )\n",
    "\n",
    "\n",
    "def accuracy(stats: dict):\n",
    "    return (stats['tp'] + stats['tn']) / stats['n']\n",
    "\n",
    "\n",
    "def precision(stats: dict):\n",
    "    return stats['tp'] / (stats['tp'] + stats['fp'])\n",
    "\n",
    "\n",
    "def recall(stats: dict):\n",
    "    return stats['tp'] / (stats['tp'] + stats['fn'])\n",
    "\n",
    "\n",
    "def f1(stats: dict):\n",
    "    p, r = precision(stats), recall(stats)\n",
    "    return 2 * p * r / (p + r)\n",
    "\n",
    "\n",
    "def TPR(stats: dict):\n",
    "    return stats['tp'] / (stats['tp'] + stats['fn'])\n",
    "\n",
    "\n",
    "def FPR(stats: dict):\n",
    "    return stats['fp'] / (stats['fp'] + stats['tn'])"
   ],
   "metadata": {
    "collapsed": false,
    "ExecuteTime": {
     "end_time": "2024-10-30T08:11:32.649748924Z",
     "start_time": "2024-10-30T08:11:32.636541128Z"
    }
   },
   "id": "dca8832c824e0b78"
  },
  {
   "cell_type": "markdown",
   "source": [
    "Определим меры информации"
   ],
   "metadata": {
    "collapsed": false
   },
   "id": "f5f6f54792445f77"
  },
  {
   "cell_type": "code",
   "execution_count": 21,
   "outputs": [],
   "source": [
    "# https://www.tandfonline.com/doi/pdf/10.1080/08839514.2018.1447479 page 122\n",
    "\n",
    "# информация \n",
    "def info(x):\n",
    "    _, cnt = np.unique(x, return_counts=True)\n",
    "    freq = cnt / x.shape[0]\n",
    "    return -(freq * np.log2(freq)).sum()\n",
    "\n",
    "\n",
    "# прирост информации при делении по столбцу\n",
    "def info_gain(X, y, attr):\n",
    "    gain = info(y)\n",
    "    for cat in np.unique(X[:, attr]):\n",
    "        yi = y[X[:, attr] == cat]\n",
    "        gain -= (yi.shape[0] / y.shape[0]) * info(yi)\n",
    "    return gain\n",
    "\n",
    "\n",
    "def split_info(x, attr):\n",
    "    return info(x[:, attr])\n",
    "\n",
    "\n",
    "# нормированный прирост\n",
    "def gain_ratio(x, y, attr):\n",
    "    if (si := split_info(x, attr)) == 0: return 0\n",
    "    return info_gain(x, y, attr) / si"
   ],
   "metadata": {
    "collapsed": false,
    "ExecuteTime": {
     "end_time": "2024-10-30T08:11:33.450007772Z",
     "start_time": "2024-10-30T08:11:33.445341033Z"
    }
   },
   "id": "33f89233672f02cc"
  },
  {
   "cell_type": "markdown",
   "source": [
    "Решающее дерево по алгоритму C4.5 "
   ],
   "metadata": {
    "collapsed": false
   },
   "id": "20f3abac0f7e3a3a"
  },
  {
   "cell_type": "code",
   "execution_count": 48,
   "outputs": [],
   "source": [
    "def pad_lines(x: str, pad=0, char=' ') -> str:\n",
    "    return x.replace('\\n', '\\n' + (char * pad))\n",
    "\n",
    "\n",
    "@dataclass\n",
    "class TreeNode:\n",
    "    leaf_cat: Optional[int] = None\n",
    "    leaf_prob: Optional[float] = None\n",
    "    split_attr: Optional[int] = None\n",
    "    split_child: Dict[int, 'TreeNode'] = field(default_factory=dict)\n",
    "\n",
    "    def __str__(self):\n",
    "        if (cat := self.leaf_prob) is not None:\n",
    "            return f\"-> {cat:.2f}\"\n",
    "        res = f\"\\nATTR {self.split_attr}: \\n\"\n",
    "        res += '\\n'.join([\n",
    "            f\"|  {i}: {pad_lines(str(j), 2)}\"\n",
    "            for i, j in self.split_child.items()\n",
    "        ])\n",
    "        return res\n",
    "\n",
    "\n",
    "class Tree:\n",
    "    def __init__(self, x, y):\n",
    "        if type(x) is pd.DataFrame:\n",
    "            x = x.to_numpy()\n",
    "        if type(y) is pd.DataFrame:\n",
    "            y = y.to_numpy()\n",
    "        self.__root = self.__build(x, y)\n",
    "\n",
    "    def __str__(self):\n",
    "        return str(self.__root)\n",
    "\n",
    "    def __build(self, x, y):\n",
    "        out_cats = np.unique(y)\n",
    "        if out_cats.shape[0] == 1:  # single out class\n",
    "            cat = int(out_cats[0])\n",
    "            return TreeNode(leaf_cat=cat, leaf_prob=cat)\n",
    "\n",
    "        split_attr, max_gain = max((\n",
    "            (i, gain_ratio(x, y, i))\n",
    "            for i in range(x.shape[1])\n",
    "        ), key=lambda i: i[1])\n",
    "\n",
    "        if np.isclose(max_gain, 0, rtol=1e-9):  # all gains zero -> no definite class for leaf\n",
    "            return TreeNode(leaf_cat=int(y.mode()[0]), leaf_prob=float(y.mean()))\n",
    "        \n",
    "        split_cats = np.unique(x[:, split_attr])\n",
    "        split = [\n",
    "            (cat, x[:, split_attr] == cat)\n",
    "            for cat in split_cats\n",
    "        ]\n",
    "        return TreeNode(\n",
    "            split_attr=split_attr,\n",
    "            split_child={\n",
    "                int(cat): self.__build(x[ids], y[ids])\n",
    "                for cat, ids in split\n",
    "            }\n",
    "        )\n",
    "\n",
    "    def __predict(self, x, root: TreeNode = None):\n",
    "        \"\"\"\n",
    "        :return: (category, probability)\n",
    "        \"\"\"\n",
    "        if root is None:\n",
    "            root = self.__root\n",
    "        if root.leaf_cat is not None:\n",
    "            return root.leaf_cat, root.leaf_prob\n",
    "        child = root.split_child[x[root.split_attr]]\n",
    "        return self.__predict(x, child)\n",
    "\n",
    "    def predict(self, x):\n",
    "        \"\"\"\n",
    "        :return: (np.array(category), np.array(probability))\n",
    "        \"\"\"\n",
    "        data = np.apply_along_axis(lambda r: self.__predict(r), 1, x)\n",
    "        return data[:,0], data[:,1]"
   ],
   "metadata": {
    "collapsed": false,
    "ExecuteTime": {
     "end_time": "2024-10-30T08:13:24.702700199Z",
     "start_time": "2024-10-30T08:13:24.668048274Z"
    }
   },
   "id": "f7c2279fe6f2cc4b"
  },
  {
   "cell_type": "markdown",
   "source": [
    "Построим дерево для заданного набора признаков"
   ],
   "metadata": {
    "collapsed": false
   },
   "id": "895801aa54d4c7fa"
  },
  {
   "cell_type": "code",
   "execution_count": 55,
   "outputs": [
    {
     "name": "stdout",
     "output_type": "stream",
     "text": [
      "C4.5 tree for columns: gill_attachment, gill_color, gill_spacing, stalk_surface_above_ring, stalk_color_below_ring\n",
      "\n",
      "ATTR 3: \n",
      "|  0: \n",
      "  ATTR 2: \n",
      "  |  0: -> 1.00\n",
      "  |  1: -> 0.00\n",
      "|  1: \n",
      "  ATTR 2: \n",
      "  |  0: -> 1.00\n",
      "  |  1: -> 0.00\n",
      "|  2: \n",
      "  ATTR 1: \n",
      "  |  0: -> 1.00\n",
      "  |  1: -> 0.00\n",
      "  |  2: \n",
      "    ATTR 2: \n",
      "    |  0: -> 0.22\n",
      "    |  1: -> 0.30\n",
      "  |  3: \n",
      "    ATTR 2: \n",
      "    |  0: -> 0.80\n",
      "    |  1: -> 0.00\n",
      "  |  4: \n",
      "    ATTR 2: \n",
      "    |  0: -> 0.30\n",
      "    |  1: -> 0.00\n",
      "  |  5: \n",
      "    ATTR 4: \n",
      "    |  3: -> 0.00\n",
      "    |  5: -> 0.00\n",
      "    |  6: -> 0.00\n",
      "    |  7: \n",
      "      ATTR 2: \n",
      "      |  0: -> 0.22\n",
      "      |  1: -> 0.17\n",
      "  |  6: -> 0.00\n",
      "  |  7: \n",
      "    ATTR 4: \n",
      "    |  3: -> 0.00\n",
      "    |  6: -> 0.00\n",
      "    |  7: \n",
      "      ATTR 2: \n",
      "      |  0: -> 0.37\n",
      "      |  1: -> 0.12\n",
      "  |  8: -> 1.00\n",
      "  |  9: \n",
      "    ATTR 2: \n",
      "    |  0: \n",
      "      ATTR 4: \n",
      "      |  3: -> 0.00\n",
      "      |  6: -> 0.00\n",
      "      |  7: -> 0.15\n",
      "    |  1: -> 1.00\n",
      "  |  10: \n",
      "    ATTR 4: \n",
      "    |  2: -> 0.00\n",
      "    |  3: -> 0.00\n",
      "    |  4: -> 0.00\n",
      "    |  6: -> 0.00\n",
      "    |  7: \n",
      "      ATTR 2: \n",
      "      |  0: -> 0.23\n",
      "      |  1: -> 0.08\n",
      "  |  11: -> 0.00\n",
      "|  3: \n",
      "  ATTR 2: \n",
      "  |  0: -> 0.00\n",
      "  |  1: -> 1.00\n"
     ]
    }
   ],
   "source": [
    "cols = x_train.columns.values\n",
    "\n",
    "sel_cols = np.random.choice(cols, size=math.ceil(math.sqrt(len(cols))))\n",
    "tree = Tree(x_train[sel_cols], y_train)\n",
    "print(f\"C4.5 tree for columns: {', '.join(sel_cols)}\")\n",
    "print(tree)"
   ],
   "metadata": {
    "collapsed": false,
    "ExecuteTime": {
     "end_time": "2024-10-30T08:16:13.149296464Z",
     "start_time": "2024-10-30T08:16:13.044320392Z"
    }
   },
   "id": "1d1349cf3df85c2d"
  },
  {
   "cell_type": "markdown",
   "source": [
    "Оценка качетсва"
   ],
   "metadata": {
    "collapsed": false
   },
   "id": "c039c3623f282b8b"
  },
  {
   "cell_type": "code",
   "execution_count": 56,
   "outputs": [
    {
     "name": "stdout",
     "output_type": "stream",
     "text": [
      "\n",
      "    Accuracy:   0.930\n",
      "    Precision:  0.997\n",
      "    Recall:     0.852\n",
      "    F1:         0.919\n"
     ]
    }
   ],
   "source": [
    "y_pred, y_prob = tree.predict(x_test[sel_cols])\n",
    "stats = stat(y_test, y_pred)\n",
    "print(f\"\"\"\n",
    "    Accuracy:   {accuracy(stats):.3f}\n",
    "    Precision:  {precision(stats):.3f}\n",
    "    Recall:     {recall(stats):.3f}\n",
    "    F1:         {f1(stats):.3f}\n",
    "\"\"\")"
   ],
   "metadata": {
    "collapsed": false,
    "ExecuteTime": {
     "end_time": "2024-10-30T08:16:14.002911864Z",
     "start_time": "2024-10-30T08:16:13.987760594Z"
    }
   },
   "id": "c753db3177fd2112"
  },
  {
   "cell_type": "markdown",
   "source": [
    "ROC-AUC, PR-AUC"
   ],
   "metadata": {
    "collapsed": false
   },
   "id": "321c0e49cba34bd4"
  },
  {
   "cell_type": "code",
   "execution_count": 58,
   "outputs": [
    {
     "data": {
      "application/vnd.plotly.v1+json": {
       "data": [
        {
         "x": [
          1.0,
          0.4551036070606293,
          0.4351496546431312,
          0.40214888718342284,
          0.35993860322333077,
          0.33000767459708363,
          0.2356101304681504,
          0.2064466615502686,
          0.10590943975441289,
          0.0644666155026861,
          0.052187260168841135,
          0.0023023791250959325,
          0.0
         ],
         "y": [
          1.0,
          1.0,
          0.9973544973544973,
          0.9920634920634921,
          0.9867724867724867,
          0.9814814814814815,
          0.9620811287477954,
          0.9479717813051146,
          0.9074074074074074,
          0.8880070546737213,
          0.8791887125220459,
          0.8518518518518519,
          0.8412698412698413
         ],
         "type": "scatter",
         "xaxis": "x",
         "yaxis": "y"
        },
        {
         "x": [
          1.0,
          1.0,
          0.9973544973544973,
          0.9920634920634921,
          0.9867724867724867,
          0.9814814814814815,
          0.9620811287477954,
          0.9479717813051146,
          0.9074074074074074,
          0.8880070546737213,
          0.8791887125220459,
          0.8518518518518519,
          0.8412698412698413
         ],
         "y": [
          0.4653262207632335,
          0.656629994209612,
          0.666077738515901,
          0.6822316555488175,
          0.7046599496221663,
          0.7213220998055736,
          0.7804005722460658,
          0.7998511904761905,
          0.8817480719794345,
          0.923006416131989,
          0.936150234741784,
          0.9969040247678018,
          1.0
         ],
         "type": "scatter",
         "xaxis": "x2",
         "yaxis": "y2"
        }
       ],
       "layout": {
        "template": {
         "data": {
          "histogram2dcontour": [
           {
            "type": "histogram2dcontour",
            "colorbar": {
             "outlinewidth": 0,
             "ticks": ""
            },
            "colorscale": [
             [
              0.0,
              "#0d0887"
             ],
             [
              0.1111111111111111,
              "#46039f"
             ],
             [
              0.2222222222222222,
              "#7201a8"
             ],
             [
              0.3333333333333333,
              "#9c179e"
             ],
             [
              0.4444444444444444,
              "#bd3786"
             ],
             [
              0.5555555555555556,
              "#d8576b"
             ],
             [
              0.6666666666666666,
              "#ed7953"
             ],
             [
              0.7777777777777778,
              "#fb9f3a"
             ],
             [
              0.8888888888888888,
              "#fdca26"
             ],
             [
              1.0,
              "#f0f921"
             ]
            ]
           }
          ],
          "choropleth": [
           {
            "type": "choropleth",
            "colorbar": {
             "outlinewidth": 0,
             "ticks": ""
            }
           }
          ],
          "histogram2d": [
           {
            "type": "histogram2d",
            "colorbar": {
             "outlinewidth": 0,
             "ticks": ""
            },
            "colorscale": [
             [
              0.0,
              "#0d0887"
             ],
             [
              0.1111111111111111,
              "#46039f"
             ],
             [
              0.2222222222222222,
              "#7201a8"
             ],
             [
              0.3333333333333333,
              "#9c179e"
             ],
             [
              0.4444444444444444,
              "#bd3786"
             ],
             [
              0.5555555555555556,
              "#d8576b"
             ],
             [
              0.6666666666666666,
              "#ed7953"
             ],
             [
              0.7777777777777778,
              "#fb9f3a"
             ],
             [
              0.8888888888888888,
              "#fdca26"
             ],
             [
              1.0,
              "#f0f921"
             ]
            ]
           }
          ],
          "heatmap": [
           {
            "type": "heatmap",
            "colorbar": {
             "outlinewidth": 0,
             "ticks": ""
            },
            "colorscale": [
             [
              0.0,
              "#0d0887"
             ],
             [
              0.1111111111111111,
              "#46039f"
             ],
             [
              0.2222222222222222,
              "#7201a8"
             ],
             [
              0.3333333333333333,
              "#9c179e"
             ],
             [
              0.4444444444444444,
              "#bd3786"
             ],
             [
              0.5555555555555556,
              "#d8576b"
             ],
             [
              0.6666666666666666,
              "#ed7953"
             ],
             [
              0.7777777777777778,
              "#fb9f3a"
             ],
             [
              0.8888888888888888,
              "#fdca26"
             ],
             [
              1.0,
              "#f0f921"
             ]
            ]
           }
          ],
          "heatmapgl": [
           {
            "type": "heatmapgl",
            "colorbar": {
             "outlinewidth": 0,
             "ticks": ""
            },
            "colorscale": [
             [
              0.0,
              "#0d0887"
             ],
             [
              0.1111111111111111,
              "#46039f"
             ],
             [
              0.2222222222222222,
              "#7201a8"
             ],
             [
              0.3333333333333333,
              "#9c179e"
             ],
             [
              0.4444444444444444,
              "#bd3786"
             ],
             [
              0.5555555555555556,
              "#d8576b"
             ],
             [
              0.6666666666666666,
              "#ed7953"
             ],
             [
              0.7777777777777778,
              "#fb9f3a"
             ],
             [
              0.8888888888888888,
              "#fdca26"
             ],
             [
              1.0,
              "#f0f921"
             ]
            ]
           }
          ],
          "contourcarpet": [
           {
            "type": "contourcarpet",
            "colorbar": {
             "outlinewidth": 0,
             "ticks": ""
            }
           }
          ],
          "contour": [
           {
            "type": "contour",
            "colorbar": {
             "outlinewidth": 0,
             "ticks": ""
            },
            "colorscale": [
             [
              0.0,
              "#0d0887"
             ],
             [
              0.1111111111111111,
              "#46039f"
             ],
             [
              0.2222222222222222,
              "#7201a8"
             ],
             [
              0.3333333333333333,
              "#9c179e"
             ],
             [
              0.4444444444444444,
              "#bd3786"
             ],
             [
              0.5555555555555556,
              "#d8576b"
             ],
             [
              0.6666666666666666,
              "#ed7953"
             ],
             [
              0.7777777777777778,
              "#fb9f3a"
             ],
             [
              0.8888888888888888,
              "#fdca26"
             ],
             [
              1.0,
              "#f0f921"
             ]
            ]
           }
          ],
          "surface": [
           {
            "type": "surface",
            "colorbar": {
             "outlinewidth": 0,
             "ticks": ""
            },
            "colorscale": [
             [
              0.0,
              "#0d0887"
             ],
             [
              0.1111111111111111,
              "#46039f"
             ],
             [
              0.2222222222222222,
              "#7201a8"
             ],
             [
              0.3333333333333333,
              "#9c179e"
             ],
             [
              0.4444444444444444,
              "#bd3786"
             ],
             [
              0.5555555555555556,
              "#d8576b"
             ],
             [
              0.6666666666666666,
              "#ed7953"
             ],
             [
              0.7777777777777778,
              "#fb9f3a"
             ],
             [
              0.8888888888888888,
              "#fdca26"
             ],
             [
              1.0,
              "#f0f921"
             ]
            ]
           }
          ],
          "mesh3d": [
           {
            "type": "mesh3d",
            "colorbar": {
             "outlinewidth": 0,
             "ticks": ""
            }
           }
          ],
          "scatter": [
           {
            "marker": {
             "line": {
              "color": "#283442"
             }
            },
            "type": "scatter"
           }
          ],
          "parcoords": [
           {
            "type": "parcoords",
            "line": {
             "colorbar": {
              "outlinewidth": 0,
              "ticks": ""
             }
            }
           }
          ],
          "scatterpolargl": [
           {
            "type": "scatterpolargl",
            "marker": {
             "colorbar": {
              "outlinewidth": 0,
              "ticks": ""
             }
            }
           }
          ],
          "bar": [
           {
            "error_x": {
             "color": "#f2f5fa"
            },
            "error_y": {
             "color": "#f2f5fa"
            },
            "marker": {
             "line": {
              "color": "rgb(17,17,17)",
              "width": 0.5
             },
             "pattern": {
              "fillmode": "overlay",
              "size": 10,
              "solidity": 0.2
             }
            },
            "type": "bar"
           }
          ],
          "scattergeo": [
           {
            "type": "scattergeo",
            "marker": {
             "colorbar": {
              "outlinewidth": 0,
              "ticks": ""
             }
            }
           }
          ],
          "scatterpolar": [
           {
            "type": "scatterpolar",
            "marker": {
             "colorbar": {
              "outlinewidth": 0,
              "ticks": ""
             }
            }
           }
          ],
          "histogram": [
           {
            "marker": {
             "pattern": {
              "fillmode": "overlay",
              "size": 10,
              "solidity": 0.2
             }
            },
            "type": "histogram"
           }
          ],
          "scattergl": [
           {
            "marker": {
             "line": {
              "color": "#283442"
             }
            },
            "type": "scattergl"
           }
          ],
          "scatter3d": [
           {
            "type": "scatter3d",
            "line": {
             "colorbar": {
              "outlinewidth": 0,
              "ticks": ""
             }
            },
            "marker": {
             "colorbar": {
              "outlinewidth": 0,
              "ticks": ""
             }
            }
           }
          ],
          "scattermapbox": [
           {
            "type": "scattermapbox",
            "marker": {
             "colorbar": {
              "outlinewidth": 0,
              "ticks": ""
             }
            }
           }
          ],
          "scatterternary": [
           {
            "type": "scatterternary",
            "marker": {
             "colorbar": {
              "outlinewidth": 0,
              "ticks": ""
             }
            }
           }
          ],
          "scattercarpet": [
           {
            "type": "scattercarpet",
            "marker": {
             "colorbar": {
              "outlinewidth": 0,
              "ticks": ""
             }
            }
           }
          ],
          "carpet": [
           {
            "aaxis": {
             "endlinecolor": "#A2B1C6",
             "gridcolor": "#506784",
             "linecolor": "#506784",
             "minorgridcolor": "#506784",
             "startlinecolor": "#A2B1C6"
            },
            "baxis": {
             "endlinecolor": "#A2B1C6",
             "gridcolor": "#506784",
             "linecolor": "#506784",
             "minorgridcolor": "#506784",
             "startlinecolor": "#A2B1C6"
            },
            "type": "carpet"
           }
          ],
          "table": [
           {
            "cells": {
             "fill": {
              "color": "#506784"
             },
             "line": {
              "color": "rgb(17,17,17)"
             }
            },
            "header": {
             "fill": {
              "color": "#2a3f5f"
             },
             "line": {
              "color": "rgb(17,17,17)"
             }
            },
            "type": "table"
           }
          ],
          "barpolar": [
           {
            "marker": {
             "line": {
              "color": "rgb(17,17,17)",
              "width": 0.5
             },
             "pattern": {
              "fillmode": "overlay",
              "size": 10,
              "solidity": 0.2
             }
            },
            "type": "barpolar"
           }
          ],
          "pie": [
           {
            "automargin": true,
            "type": "pie"
           }
          ]
         },
         "layout": {
          "autotypenumbers": "strict",
          "colorway": [
           "#636efa",
           "#EF553B",
           "#00cc96",
           "#ab63fa",
           "#FFA15A",
           "#19d3f3",
           "#FF6692",
           "#B6E880",
           "#FF97FF",
           "#FECB52"
          ],
          "font": {
           "color": "#f2f5fa"
          },
          "hovermode": "closest",
          "hoverlabel": {
           "align": "left"
          },
          "paper_bgcolor": "rgb(17,17,17)",
          "plot_bgcolor": "rgb(17,17,17)",
          "polar": {
           "bgcolor": "rgb(17,17,17)",
           "angularaxis": {
            "gridcolor": "#506784",
            "linecolor": "#506784",
            "ticks": ""
           },
           "radialaxis": {
            "gridcolor": "#506784",
            "linecolor": "#506784",
            "ticks": ""
           }
          },
          "ternary": {
           "bgcolor": "rgb(17,17,17)",
           "aaxis": {
            "gridcolor": "#506784",
            "linecolor": "#506784",
            "ticks": ""
           },
           "baxis": {
            "gridcolor": "#506784",
            "linecolor": "#506784",
            "ticks": ""
           },
           "caxis": {
            "gridcolor": "#506784",
            "linecolor": "#506784",
            "ticks": ""
           }
          },
          "coloraxis": {
           "colorbar": {
            "outlinewidth": 0,
            "ticks": ""
           }
          },
          "colorscale": {
           "sequential": [
            [
             0.0,
             "#0d0887"
            ],
            [
             0.1111111111111111,
             "#46039f"
            ],
            [
             0.2222222222222222,
             "#7201a8"
            ],
            [
             0.3333333333333333,
             "#9c179e"
            ],
            [
             0.4444444444444444,
             "#bd3786"
            ],
            [
             0.5555555555555556,
             "#d8576b"
            ],
            [
             0.6666666666666666,
             "#ed7953"
            ],
            [
             0.7777777777777778,
             "#fb9f3a"
            ],
            [
             0.8888888888888888,
             "#fdca26"
            ],
            [
             1.0,
             "#f0f921"
            ]
           ],
           "sequentialminus": [
            [
             0.0,
             "#0d0887"
            ],
            [
             0.1111111111111111,
             "#46039f"
            ],
            [
             0.2222222222222222,
             "#7201a8"
            ],
            [
             0.3333333333333333,
             "#9c179e"
            ],
            [
             0.4444444444444444,
             "#bd3786"
            ],
            [
             0.5555555555555556,
             "#d8576b"
            ],
            [
             0.6666666666666666,
             "#ed7953"
            ],
            [
             0.7777777777777778,
             "#fb9f3a"
            ],
            [
             0.8888888888888888,
             "#fdca26"
            ],
            [
             1.0,
             "#f0f921"
            ]
           ],
           "diverging": [
            [
             0,
             "#8e0152"
            ],
            [
             0.1,
             "#c51b7d"
            ],
            [
             0.2,
             "#de77ae"
            ],
            [
             0.3,
             "#f1b6da"
            ],
            [
             0.4,
             "#fde0ef"
            ],
            [
             0.5,
             "#f7f7f7"
            ],
            [
             0.6,
             "#e6f5d0"
            ],
            [
             0.7,
             "#b8e186"
            ],
            [
             0.8,
             "#7fbc41"
            ],
            [
             0.9,
             "#4d9221"
            ],
            [
             1,
             "#276419"
            ]
           ]
          },
          "xaxis": {
           "gridcolor": "#283442",
           "linecolor": "#506784",
           "ticks": "",
           "title": {
            "standoff": 15
           },
           "zerolinecolor": "#283442",
           "automargin": true,
           "zerolinewidth": 2
          },
          "yaxis": {
           "gridcolor": "#283442",
           "linecolor": "#506784",
           "ticks": "",
           "title": {
            "standoff": 15
           },
           "zerolinecolor": "#283442",
           "automargin": true,
           "zerolinewidth": 2
          },
          "scene": {
           "xaxis": {
            "backgroundcolor": "rgb(17,17,17)",
            "gridcolor": "#506784",
            "linecolor": "#506784",
            "showbackground": true,
            "ticks": "",
            "zerolinecolor": "#C8D4E3",
            "gridwidth": 2
           },
           "yaxis": {
            "backgroundcolor": "rgb(17,17,17)",
            "gridcolor": "#506784",
            "linecolor": "#506784",
            "showbackground": true,
            "ticks": "",
            "zerolinecolor": "#C8D4E3",
            "gridwidth": 2
           },
           "zaxis": {
            "backgroundcolor": "rgb(17,17,17)",
            "gridcolor": "#506784",
            "linecolor": "#506784",
            "showbackground": true,
            "ticks": "",
            "zerolinecolor": "#C8D4E3",
            "gridwidth": 2
           }
          },
          "shapedefaults": {
           "line": {
            "color": "#f2f5fa"
           }
          },
          "annotationdefaults": {
           "arrowcolor": "#f2f5fa",
           "arrowhead": 0,
           "arrowwidth": 1
          },
          "geo": {
           "bgcolor": "rgb(17,17,17)",
           "landcolor": "rgb(17,17,17)",
           "subunitcolor": "#506784",
           "showland": true,
           "showlakes": true,
           "lakecolor": "rgb(17,17,17)"
          },
          "title": {
           "x": 0.05
          },
          "updatemenudefaults": {
           "bgcolor": "#506784",
           "borderwidth": 0
          },
          "sliderdefaults": {
           "bgcolor": "#C8D4E3",
           "borderwidth": 1,
           "bordercolor": "rgb(17,17,17)",
           "tickwidth": 0
          },
          "mapbox": {
           "style": "dark"
          }
         }
        },
        "xaxis": {
         "anchor": "y",
         "domain": [
          0.0,
          0.45
         ],
         "title": {
          "text": "FPR"
         }
        },
        "yaxis": {
         "anchor": "x",
         "domain": [
          0.0,
          1.0
         ],
         "title": {
          "text": "TPR"
         }
        },
        "xaxis2": {
         "anchor": "y2",
         "domain": [
          0.55,
          1.0
         ],
         "title": {
          "text": "Recall"
         }
        },
        "yaxis2": {
         "anchor": "x2",
         "domain": [
          0.0,
          1.0
         ],
         "title": {
          "text": "Precision"
         }
        },
        "annotations": [
         {
          "font": {
           "size": 16
          },
          "showarrow": false,
          "text": "ROC (AUC=0.975)",
          "x": 0.225,
          "xanchor": "center",
          "xref": "paper",
          "y": 1.0,
          "yanchor": "bottom",
          "yref": "paper"
         },
         {
          "font": {
           "size": 16
          },
          "showarrow": false,
          "text": "PR (AUC=0.135)",
          "x": 0.775,
          "xanchor": "center",
          "xref": "paper",
          "y": 1.0,
          "yanchor": "bottom",
          "yref": "paper"
         }
        ]
       },
       "config": {
        "plotlyServerURL": "https://plot.ly"
       }
      },
      "text/html": "<div>                            <div id=\"9d50c75e-b51d-46fa-8f4a-7f806440624c\" class=\"plotly-graph-div\" style=\"height:525px; width:100%;\"></div>            <script type=\"text/javascript\">                require([\"plotly\"], function(Plotly) {                    window.PLOTLYENV=window.PLOTLYENV || {};                                    if (document.getElementById(\"9d50c75e-b51d-46fa-8f4a-7f806440624c\")) {                    Plotly.newPlot(                        \"9d50c75e-b51d-46fa-8f4a-7f806440624c\",                        [{\"x\":[1.0,0.4551036070606293,0.4351496546431312,0.40214888718342284,0.35993860322333077,0.33000767459708363,0.2356101304681504,0.2064466615502686,0.10590943975441289,0.0644666155026861,0.052187260168841135,0.0023023791250959325,0.0],\"y\":[1.0,1.0,0.9973544973544973,0.9920634920634921,0.9867724867724867,0.9814814814814815,0.9620811287477954,0.9479717813051146,0.9074074074074074,0.8880070546737213,0.8791887125220459,0.8518518518518519,0.8412698412698413],\"type\":\"scatter\",\"xaxis\":\"x\",\"yaxis\":\"y\"},{\"x\":[1.0,1.0,0.9973544973544973,0.9920634920634921,0.9867724867724867,0.9814814814814815,0.9620811287477954,0.9479717813051146,0.9074074074074074,0.8880070546737213,0.8791887125220459,0.8518518518518519,0.8412698412698413],\"y\":[0.4653262207632335,0.656629994209612,0.666077738515901,0.6822316555488175,0.7046599496221663,0.7213220998055736,0.7804005722460658,0.7998511904761905,0.8817480719794345,0.923006416131989,0.936150234741784,0.9969040247678018,1.0],\"type\":\"scatter\",\"xaxis\":\"x2\",\"yaxis\":\"y2\"}],                        {\"template\":{\"data\":{\"histogram2dcontour\":[{\"type\":\"histogram2dcontour\",\"colorbar\":{\"outlinewidth\":0,\"ticks\":\"\"},\"colorscale\":[[0.0,\"#0d0887\"],[0.1111111111111111,\"#46039f\"],[0.2222222222222222,\"#7201a8\"],[0.3333333333333333,\"#9c179e\"],[0.4444444444444444,\"#bd3786\"],[0.5555555555555556,\"#d8576b\"],[0.6666666666666666,\"#ed7953\"],[0.7777777777777778,\"#fb9f3a\"],[0.8888888888888888,\"#fdca26\"],[1.0,\"#f0f921\"]]}],\"choropleth\":[{\"type\":\"choropleth\",\"colorbar\":{\"outlinewidth\":0,\"ticks\":\"\"}}],\"histogram2d\":[{\"type\":\"histogram2d\",\"colorbar\":{\"outlinewidth\":0,\"ticks\":\"\"},\"colorscale\":[[0.0,\"#0d0887\"],[0.1111111111111111,\"#46039f\"],[0.2222222222222222,\"#7201a8\"],[0.3333333333333333,\"#9c179e\"],[0.4444444444444444,\"#bd3786\"],[0.5555555555555556,\"#d8576b\"],[0.6666666666666666,\"#ed7953\"],[0.7777777777777778,\"#fb9f3a\"],[0.8888888888888888,\"#fdca26\"],[1.0,\"#f0f921\"]]}],\"heatmap\":[{\"type\":\"heatmap\",\"colorbar\":{\"outlinewidth\":0,\"ticks\":\"\"},\"colorscale\":[[0.0,\"#0d0887\"],[0.1111111111111111,\"#46039f\"],[0.2222222222222222,\"#7201a8\"],[0.3333333333333333,\"#9c179e\"],[0.4444444444444444,\"#bd3786\"],[0.5555555555555556,\"#d8576b\"],[0.6666666666666666,\"#ed7953\"],[0.7777777777777778,\"#fb9f3a\"],[0.8888888888888888,\"#fdca26\"],[1.0,\"#f0f921\"]]}],\"heatmapgl\":[{\"type\":\"heatmapgl\",\"colorbar\":{\"outlinewidth\":0,\"ticks\":\"\"},\"colorscale\":[[0.0,\"#0d0887\"],[0.1111111111111111,\"#46039f\"],[0.2222222222222222,\"#7201a8\"],[0.3333333333333333,\"#9c179e\"],[0.4444444444444444,\"#bd3786\"],[0.5555555555555556,\"#d8576b\"],[0.6666666666666666,\"#ed7953\"],[0.7777777777777778,\"#fb9f3a\"],[0.8888888888888888,\"#fdca26\"],[1.0,\"#f0f921\"]]}],\"contourcarpet\":[{\"type\":\"contourcarpet\",\"colorbar\":{\"outlinewidth\":0,\"ticks\":\"\"}}],\"contour\":[{\"type\":\"contour\",\"colorbar\":{\"outlinewidth\":0,\"ticks\":\"\"},\"colorscale\":[[0.0,\"#0d0887\"],[0.1111111111111111,\"#46039f\"],[0.2222222222222222,\"#7201a8\"],[0.3333333333333333,\"#9c179e\"],[0.4444444444444444,\"#bd3786\"],[0.5555555555555556,\"#d8576b\"],[0.6666666666666666,\"#ed7953\"],[0.7777777777777778,\"#fb9f3a\"],[0.8888888888888888,\"#fdca26\"],[1.0,\"#f0f921\"]]}],\"surface\":[{\"type\":\"surface\",\"colorbar\":{\"outlinewidth\":0,\"ticks\":\"\"},\"colorscale\":[[0.0,\"#0d0887\"],[0.1111111111111111,\"#46039f\"],[0.2222222222222222,\"#7201a8\"],[0.3333333333333333,\"#9c179e\"],[0.4444444444444444,\"#bd3786\"],[0.5555555555555556,\"#d8576b\"],[0.6666666666666666,\"#ed7953\"],[0.7777777777777778,\"#fb9f3a\"],[0.8888888888888888,\"#fdca26\"],[1.0,\"#f0f921\"]]}],\"mesh3d\":[{\"type\":\"mesh3d\",\"colorbar\":{\"outlinewidth\":0,\"ticks\":\"\"}}],\"scatter\":[{\"marker\":{\"line\":{\"color\":\"#283442\"}},\"type\":\"scatter\"}],\"parcoords\":[{\"type\":\"parcoords\",\"line\":{\"colorbar\":{\"outlinewidth\":0,\"ticks\":\"\"}}}],\"scatterpolargl\":[{\"type\":\"scatterpolargl\",\"marker\":{\"colorbar\":{\"outlinewidth\":0,\"ticks\":\"\"}}}],\"bar\":[{\"error_x\":{\"color\":\"#f2f5fa\"},\"error_y\":{\"color\":\"#f2f5fa\"},\"marker\":{\"line\":{\"color\":\"rgb(17,17,17)\",\"width\":0.5},\"pattern\":{\"fillmode\":\"overlay\",\"size\":10,\"solidity\":0.2}},\"type\":\"bar\"}],\"scattergeo\":[{\"type\":\"scattergeo\",\"marker\":{\"colorbar\":{\"outlinewidth\":0,\"ticks\":\"\"}}}],\"scatterpolar\":[{\"type\":\"scatterpolar\",\"marker\":{\"colorbar\":{\"outlinewidth\":0,\"ticks\":\"\"}}}],\"histogram\":[{\"marker\":{\"pattern\":{\"fillmode\":\"overlay\",\"size\":10,\"solidity\":0.2}},\"type\":\"histogram\"}],\"scattergl\":[{\"marker\":{\"line\":{\"color\":\"#283442\"}},\"type\":\"scattergl\"}],\"scatter3d\":[{\"type\":\"scatter3d\",\"line\":{\"colorbar\":{\"outlinewidth\":0,\"ticks\":\"\"}},\"marker\":{\"colorbar\":{\"outlinewidth\":0,\"ticks\":\"\"}}}],\"scattermapbox\":[{\"type\":\"scattermapbox\",\"marker\":{\"colorbar\":{\"outlinewidth\":0,\"ticks\":\"\"}}}],\"scatterternary\":[{\"type\":\"scatterternary\",\"marker\":{\"colorbar\":{\"outlinewidth\":0,\"ticks\":\"\"}}}],\"scattercarpet\":[{\"type\":\"scattercarpet\",\"marker\":{\"colorbar\":{\"outlinewidth\":0,\"ticks\":\"\"}}}],\"carpet\":[{\"aaxis\":{\"endlinecolor\":\"#A2B1C6\",\"gridcolor\":\"#506784\",\"linecolor\":\"#506784\",\"minorgridcolor\":\"#506784\",\"startlinecolor\":\"#A2B1C6\"},\"baxis\":{\"endlinecolor\":\"#A2B1C6\",\"gridcolor\":\"#506784\",\"linecolor\":\"#506784\",\"minorgridcolor\":\"#506784\",\"startlinecolor\":\"#A2B1C6\"},\"type\":\"carpet\"}],\"table\":[{\"cells\":{\"fill\":{\"color\":\"#506784\"},\"line\":{\"color\":\"rgb(17,17,17)\"}},\"header\":{\"fill\":{\"color\":\"#2a3f5f\"},\"line\":{\"color\":\"rgb(17,17,17)\"}},\"type\":\"table\"}],\"barpolar\":[{\"marker\":{\"line\":{\"color\":\"rgb(17,17,17)\",\"width\":0.5},\"pattern\":{\"fillmode\":\"overlay\",\"size\":10,\"solidity\":0.2}},\"type\":\"barpolar\"}],\"pie\":[{\"automargin\":true,\"type\":\"pie\"}]},\"layout\":{\"autotypenumbers\":\"strict\",\"colorway\":[\"#636efa\",\"#EF553B\",\"#00cc96\",\"#ab63fa\",\"#FFA15A\",\"#19d3f3\",\"#FF6692\",\"#B6E880\",\"#FF97FF\",\"#FECB52\"],\"font\":{\"color\":\"#f2f5fa\"},\"hovermode\":\"closest\",\"hoverlabel\":{\"align\":\"left\"},\"paper_bgcolor\":\"rgb(17,17,17)\",\"plot_bgcolor\":\"rgb(17,17,17)\",\"polar\":{\"bgcolor\":\"rgb(17,17,17)\",\"angularaxis\":{\"gridcolor\":\"#506784\",\"linecolor\":\"#506784\",\"ticks\":\"\"},\"radialaxis\":{\"gridcolor\":\"#506784\",\"linecolor\":\"#506784\",\"ticks\":\"\"}},\"ternary\":{\"bgcolor\":\"rgb(17,17,17)\",\"aaxis\":{\"gridcolor\":\"#506784\",\"linecolor\":\"#506784\",\"ticks\":\"\"},\"baxis\":{\"gridcolor\":\"#506784\",\"linecolor\":\"#506784\",\"ticks\":\"\"},\"caxis\":{\"gridcolor\":\"#506784\",\"linecolor\":\"#506784\",\"ticks\":\"\"}},\"coloraxis\":{\"colorbar\":{\"outlinewidth\":0,\"ticks\":\"\"}},\"colorscale\":{\"sequential\":[[0.0,\"#0d0887\"],[0.1111111111111111,\"#46039f\"],[0.2222222222222222,\"#7201a8\"],[0.3333333333333333,\"#9c179e\"],[0.4444444444444444,\"#bd3786\"],[0.5555555555555556,\"#d8576b\"],[0.6666666666666666,\"#ed7953\"],[0.7777777777777778,\"#fb9f3a\"],[0.8888888888888888,\"#fdca26\"],[1.0,\"#f0f921\"]],\"sequentialminus\":[[0.0,\"#0d0887\"],[0.1111111111111111,\"#46039f\"],[0.2222222222222222,\"#7201a8\"],[0.3333333333333333,\"#9c179e\"],[0.4444444444444444,\"#bd3786\"],[0.5555555555555556,\"#d8576b\"],[0.6666666666666666,\"#ed7953\"],[0.7777777777777778,\"#fb9f3a\"],[0.8888888888888888,\"#fdca26\"],[1.0,\"#f0f921\"]],\"diverging\":[[0,\"#8e0152\"],[0.1,\"#c51b7d\"],[0.2,\"#de77ae\"],[0.3,\"#f1b6da\"],[0.4,\"#fde0ef\"],[0.5,\"#f7f7f7\"],[0.6,\"#e6f5d0\"],[0.7,\"#b8e186\"],[0.8,\"#7fbc41\"],[0.9,\"#4d9221\"],[1,\"#276419\"]]},\"xaxis\":{\"gridcolor\":\"#283442\",\"linecolor\":\"#506784\",\"ticks\":\"\",\"title\":{\"standoff\":15},\"zerolinecolor\":\"#283442\",\"automargin\":true,\"zerolinewidth\":2},\"yaxis\":{\"gridcolor\":\"#283442\",\"linecolor\":\"#506784\",\"ticks\":\"\",\"title\":{\"standoff\":15},\"zerolinecolor\":\"#283442\",\"automargin\":true,\"zerolinewidth\":2},\"scene\":{\"xaxis\":{\"backgroundcolor\":\"rgb(17,17,17)\",\"gridcolor\":\"#506784\",\"linecolor\":\"#506784\",\"showbackground\":true,\"ticks\":\"\",\"zerolinecolor\":\"#C8D4E3\",\"gridwidth\":2},\"yaxis\":{\"backgroundcolor\":\"rgb(17,17,17)\",\"gridcolor\":\"#506784\",\"linecolor\":\"#506784\",\"showbackground\":true,\"ticks\":\"\",\"zerolinecolor\":\"#C8D4E3\",\"gridwidth\":2},\"zaxis\":{\"backgroundcolor\":\"rgb(17,17,17)\",\"gridcolor\":\"#506784\",\"linecolor\":\"#506784\",\"showbackground\":true,\"ticks\":\"\",\"zerolinecolor\":\"#C8D4E3\",\"gridwidth\":2}},\"shapedefaults\":{\"line\":{\"color\":\"#f2f5fa\"}},\"annotationdefaults\":{\"arrowcolor\":\"#f2f5fa\",\"arrowhead\":0,\"arrowwidth\":1},\"geo\":{\"bgcolor\":\"rgb(17,17,17)\",\"landcolor\":\"rgb(17,17,17)\",\"subunitcolor\":\"#506784\",\"showland\":true,\"showlakes\":true,\"lakecolor\":\"rgb(17,17,17)\"},\"title\":{\"x\":0.05},\"updatemenudefaults\":{\"bgcolor\":\"#506784\",\"borderwidth\":0},\"sliderdefaults\":{\"bgcolor\":\"#C8D4E3\",\"borderwidth\":1,\"bordercolor\":\"rgb(17,17,17)\",\"tickwidth\":0},\"mapbox\":{\"style\":\"dark\"}}},\"xaxis\":{\"anchor\":\"y\",\"domain\":[0.0,0.45],\"title\":{\"text\":\"FPR\"}},\"yaxis\":{\"anchor\":\"x\",\"domain\":[0.0,1.0],\"title\":{\"text\":\"TPR\"}},\"xaxis2\":{\"anchor\":\"y2\",\"domain\":[0.55,1.0],\"title\":{\"text\":\"Recall\"}},\"yaxis2\":{\"anchor\":\"x2\",\"domain\":[0.0,1.0],\"title\":{\"text\":\"Precision\"}},\"annotations\":[{\"font\":{\"size\":16},\"showarrow\":false,\"text\":\"ROC (AUC=0.975)\",\"x\":0.225,\"xanchor\":\"center\",\"xref\":\"paper\",\"y\":1.0,\"yanchor\":\"bottom\",\"yref\":\"paper\"},{\"font\":{\"size\":16},\"showarrow\":false,\"text\":\"PR (AUC=0.135)\",\"x\":0.775,\"xanchor\":\"center\",\"xref\":\"paper\",\"y\":1.0,\"yanchor\":\"bottom\",\"yref\":\"paper\"}]},                        {\"responsive\": true}                    ).then(function(){\n                            \nvar gd = document.getElementById('9d50c75e-b51d-46fa-8f4a-7f806440624c');\nvar x = new MutationObserver(function (mutations, observer) {{\n        var display = window.getComputedStyle(gd).display;\n        if (!display || display === 'none') {{\n            console.log([gd, 'removed!']);\n            Plotly.purge(gd);\n            observer.disconnect();\n        }}\n}});\n\n// Listen for the removal of the full notebook cells\nvar notebookContainer = gd.closest('#notebook-container');\nif (notebookContainer) {{\n    x.observe(notebookContainer, {childList: true});\n}}\n\n// Listen for the clearing of the current output cell\nvar outputEl = gd.closest('.output');\nif (outputEl) {{\n    x.observe(outputEl, {childList: true});\n}}\n\n                        })                };                });            </script>        </div>"
     },
     "metadata": {},
     "output_type": "display_data"
    }
   ],
   "source": [
    "@np.vectorize\n",
    "def roc(thresh):\n",
    "    y_pred = np.round(y_prob >= thresh)\n",
    "    s = stat(y_test, y_pred)\n",
    "    return FPR(s), TPR(s)\n",
    "\n",
    "@np.vectorize\n",
    "def pr(thresh):\n",
    "    y_pred = np.round(y_prob >= thresh)\n",
    "    s = stat(y_test, y_pred)\n",
    "    return recall(s), precision(s)\n",
    "\n",
    "pts = np.unique(y_prob)\n",
    "roc_fpr, roc_tpr = roc(pts)\n",
    "pr_r, pr_p = pr(pts)\n",
    "\n",
    "roc_auc = -np.trapezoid(roc_tpr, roc_fpr)\n",
    "pr_auc = -np.trapezoid(pr_p, pr_r)\n",
    "\n",
    "fig = make_subplots(1, 2, subplot_titles=[f\"ROC (AUC={roc_auc:.3f})\", f\"PR (AUC={pr_auc:.3f})\"])\n",
    "\n",
    "fig.add_trace(go.Scatter(x=roc_fpr, y=roc_tpr), 1, 1)\n",
    "fig.update_xaxes(title_text=\"FPR\", row=1, col=1)\n",
    "fig.update_yaxes(title_text=\"TPR\", row=1, col=1)\n",
    "\n",
    "fig.add_trace(go.Scatter(x=pr_r, y=pr_p), 1, 2)\n",
    "fig.update_xaxes(title_text=\"Recall\", row=1, col=2)\n",
    "fig.update_yaxes(title_text=\"Precision\", row=1, col=2)\n",
    "\n",
    "fig.show()"
   ],
   "metadata": {
    "collapsed": false,
    "ExecuteTime": {
     "end_time": "2024-10-30T13:07:32.057590787Z",
     "start_time": "2024-10-30T13:07:31.864406691Z"
    }
   },
   "id": "c3e445db3bd7710a"
  },
  {
   "cell_type": "code",
   "execution_count": 11,
   "outputs": [],
   "source": [],
   "metadata": {
    "collapsed": false,
    "ExecuteTime": {
     "end_time": "2024-10-30T08:10:38.747818638Z",
     "start_time": "2024-10-30T08:10:38.627304746Z"
    }
   },
   "id": "5a363f9f6c740f21"
  }
 ],
 "metadata": {
  "kernelspec": {
   "display_name": "Python 3 (ipykernel)",
   "language": "python",
   "name": "python3"
  },
  "language_info": {
   "codemirror_mode": {
    "name": "ipython",
    "version": 3
   },
   "file_extension": ".py",
   "mimetype": "text/x-python",
   "name": "python",
   "nbconvert_exporter": "python",
   "pygments_lexer": "ipython3",
   "version": "3.11.6"
  }
 },
 "nbformat": 4,
 "nbformat_minor": 5
}
