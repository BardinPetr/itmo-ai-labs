{
 "cells": [
  {
   "cell_type": "code",
   "execution_count": 254,
   "id": "86d08e2f-42a5-4691-9680-e33d4dc04724",
   "metadata": {
    "ExecuteTime": {
     "end_time": "2024-10-30T12:53:20.298685121Z",
     "start_time": "2024-10-30T12:53:20.219317932Z"
    }
   },
   "outputs": [],
   "source": [
    "import random\n",
    "\n",
    "import numpy as np\n",
    "import pandas as pd\n",
    "import matplotlib.pyplot as plt\n",
    "import plotly.express as px\n",
    "import plotly.graph_objects as go\n",
    "from plotly.subplots import make_subplots\n",
    "from tqdm import tqdm\n",
    "from typing import *\n",
    "from dataclasses import dataclass, asdict, field\n",
    "\n",
    "plotly_margin = dict(l=0, r=0, t=0, b=0)"
   ]
  },
  {
   "cell_type": "markdown",
   "id": "5f9274937cece4d3",
   "metadata": {
    "collapsed": false
   },
   "source": [
    "Обзор датасета"
   ]
  },
  {
   "cell_type": "code",
   "execution_count": 255,
   "id": "cc98fb05-050d-4515-aa64-80aac6a0f841",
   "metadata": {
    "ExecuteTime": {
     "end_time": "2024-10-30T12:53:21.089724060Z",
     "start_time": "2024-10-30T12:53:20.985306910Z"
    }
   },
   "outputs": [
    {
     "data": {
      "text/plain": "     Survived  Pclass     Sex   Age  SibSp  Parch     Fare Cabin Embarked\n0           0       3    male  22.0      1      0   7.2500   NaN        S\n1           1       1  female  38.0      1      0  71.2833   C85        C\n2           1       3  female  26.0      0      0   7.9250   NaN        S\n3           1       1  female  35.0      1      0  53.1000  C123        S\n4           0       3    male  35.0      0      0   8.0500   NaN        S\n..        ...     ...     ...   ...    ...    ...      ...   ...      ...\n886         0       2    male  27.0      0      0  13.0000   NaN        S\n887         1       1  female  19.0      0      0  30.0000   B42        S\n888         0       3  female   NaN      1      2  23.4500   NaN        S\n889         1       1    male  26.0      0      0  30.0000  C148        C\n890         0       3    male  32.0      0      0   7.7500   NaN        Q\n\n[891 rows x 9 columns]",
      "text/html": "<div>\n<style scoped>\n    .dataframe tbody tr th:only-of-type {\n        vertical-align: middle;\n    }\n\n    .dataframe tbody tr th {\n        vertical-align: top;\n    }\n\n    .dataframe thead th {\n        text-align: right;\n    }\n</style>\n<table border=\"1\" class=\"dataframe\">\n  <thead>\n    <tr style=\"text-align: right;\">\n      <th></th>\n      <th>Survived</th>\n      <th>Pclass</th>\n      <th>Sex</th>\n      <th>Age</th>\n      <th>SibSp</th>\n      <th>Parch</th>\n      <th>Fare</th>\n      <th>Cabin</th>\n      <th>Embarked</th>\n    </tr>\n  </thead>\n  <tbody>\n    <tr>\n      <th>0</th>\n      <td>0</td>\n      <td>3</td>\n      <td>male</td>\n      <td>22.0</td>\n      <td>1</td>\n      <td>0</td>\n      <td>7.2500</td>\n      <td>NaN</td>\n      <td>S</td>\n    </tr>\n    <tr>\n      <th>1</th>\n      <td>1</td>\n      <td>1</td>\n      <td>female</td>\n      <td>38.0</td>\n      <td>1</td>\n      <td>0</td>\n      <td>71.2833</td>\n      <td>C85</td>\n      <td>C</td>\n    </tr>\n    <tr>\n      <th>2</th>\n      <td>1</td>\n      <td>3</td>\n      <td>female</td>\n      <td>26.0</td>\n      <td>0</td>\n      <td>0</td>\n      <td>7.9250</td>\n      <td>NaN</td>\n      <td>S</td>\n    </tr>\n    <tr>\n      <th>3</th>\n      <td>1</td>\n      <td>1</td>\n      <td>female</td>\n      <td>35.0</td>\n      <td>1</td>\n      <td>0</td>\n      <td>53.1000</td>\n      <td>C123</td>\n      <td>S</td>\n    </tr>\n    <tr>\n      <th>4</th>\n      <td>0</td>\n      <td>3</td>\n      <td>male</td>\n      <td>35.0</td>\n      <td>0</td>\n      <td>0</td>\n      <td>8.0500</td>\n      <td>NaN</td>\n      <td>S</td>\n    </tr>\n    <tr>\n      <th>...</th>\n      <td>...</td>\n      <td>...</td>\n      <td>...</td>\n      <td>...</td>\n      <td>...</td>\n      <td>...</td>\n      <td>...</td>\n      <td>...</td>\n      <td>...</td>\n    </tr>\n    <tr>\n      <th>886</th>\n      <td>0</td>\n      <td>2</td>\n      <td>male</td>\n      <td>27.0</td>\n      <td>0</td>\n      <td>0</td>\n      <td>13.0000</td>\n      <td>NaN</td>\n      <td>S</td>\n    </tr>\n    <tr>\n      <th>887</th>\n      <td>1</td>\n      <td>1</td>\n      <td>female</td>\n      <td>19.0</td>\n      <td>0</td>\n      <td>0</td>\n      <td>30.0000</td>\n      <td>B42</td>\n      <td>S</td>\n    </tr>\n    <tr>\n      <th>888</th>\n      <td>0</td>\n      <td>3</td>\n      <td>female</td>\n      <td>NaN</td>\n      <td>1</td>\n      <td>2</td>\n      <td>23.4500</td>\n      <td>NaN</td>\n      <td>S</td>\n    </tr>\n    <tr>\n      <th>889</th>\n      <td>1</td>\n      <td>1</td>\n      <td>male</td>\n      <td>26.0</td>\n      <td>0</td>\n      <td>0</td>\n      <td>30.0000</td>\n      <td>C148</td>\n      <td>C</td>\n    </tr>\n    <tr>\n      <th>890</th>\n      <td>0</td>\n      <td>3</td>\n      <td>male</td>\n      <td>32.0</td>\n      <td>0</td>\n      <td>0</td>\n      <td>7.7500</td>\n      <td>NaN</td>\n      <td>Q</td>\n    </tr>\n  </tbody>\n</table>\n<p>891 rows × 9 columns</p>\n</div>"
     },
     "execution_count": 255,
     "metadata": {},
     "output_type": "execute_result"
    }
   ],
   "source": [
    "df_in = pd.read_csv(\"data.csv\",\n",
    "                    usecols=['Survived', 'Pclass', 'Sex', 'Age', 'SibSp', 'Parch', 'Fare', 'Cabin', 'Embarked'])\n",
    "df_in"
   ]
  },
  {
   "cell_type": "markdown",
   "source": [
    "Работа с отсутствующими"
   ],
   "metadata": {
    "collapsed": false
   },
   "id": "a9bc03e24343f729"
  },
  {
   "cell_type": "code",
   "execution_count": 256,
   "outputs": [
    {
     "data": {
      "text/plain": "Survived    False\nPclass      False\nSex         False\nAge          True\nSibSp       False\nParch       False\nFare        False\nCabin        True\nEmbarked     True\ndtype: bool"
     },
     "execution_count": 256,
     "metadata": {},
     "output_type": "execute_result"
    }
   ],
   "source": [
    "df_in.isna().any()"
   ],
   "metadata": {
    "collapsed": false,
    "ExecuteTime": {
     "end_time": "2024-10-30T12:53:21.792273678Z",
     "start_time": "2024-10-30T12:53:21.557292836Z"
    }
   },
   "id": "8a6e62c1bdd656fb"
  },
  {
   "cell_type": "code",
   "execution_count": 257,
   "outputs": [],
   "source": [
    "df_in['Age'] = df_in['Age'].fillna(df_in['Age'].median())"
   ],
   "metadata": {
    "collapsed": false,
    "ExecuteTime": {
     "end_time": "2024-10-30T12:53:22.202310006Z",
     "start_time": "2024-10-30T12:53:21.636062811Z"
    }
   },
   "id": "68a357b4eaeef0ae"
  },
  {
   "cell_type": "code",
   "execution_count": 258,
   "outputs": [],
   "source": [
    "labeled_cat_cols = ['Sex', 'Cabin', 'Embarked']\n",
    "cat_cols = [*labeled_cat_cols, 'Pclass', 'Parch']\n",
    "for i in labeled_cat_cols:\n",
    "    df_in[i] = df_in[i].fillna(df_in[i].mode()[0])\n",
    "    df_in[i] = df_in[i].astype('category').cat.codes"
   ],
   "metadata": {
    "collapsed": false,
    "ExecuteTime": {
     "end_time": "2024-10-30T12:53:22.328523274Z",
     "start_time": "2024-10-30T12:53:21.693944258Z"
    }
   },
   "id": "b4bc220c851b4466"
  },
  {
   "cell_type": "code",
   "execution_count": 259,
   "outputs": [
    {
     "data": {
      "text/plain": "     Survived  Pclass  Sex   Age  SibSp  Parch     Fare  Cabin  Embarked\n0           0       3    1  22.0      1      0   7.2500     47         2\n1           1       1    0  38.0      1      0  71.2833     81         0\n2           1       3    0  26.0      0      0   7.9250     47         2\n3           1       1    0  35.0      1      0  53.1000     55         2\n4           0       3    1  35.0      0      0   8.0500     47         2\n..        ...     ...  ...   ...    ...    ...      ...    ...       ...\n886         0       2    1  27.0      0      0  13.0000     47         2\n887         1       1    0  19.0      0      0  30.0000     30         2\n888         0       3    0  28.0      1      2  23.4500     47         2\n889         1       1    1  26.0      0      0  30.0000     60         0\n890         0       3    1  32.0      0      0   7.7500     47         1\n\n[891 rows x 9 columns]",
      "text/html": "<div>\n<style scoped>\n    .dataframe tbody tr th:only-of-type {\n        vertical-align: middle;\n    }\n\n    .dataframe tbody tr th {\n        vertical-align: top;\n    }\n\n    .dataframe thead th {\n        text-align: right;\n    }\n</style>\n<table border=\"1\" class=\"dataframe\">\n  <thead>\n    <tr style=\"text-align: right;\">\n      <th></th>\n      <th>Survived</th>\n      <th>Pclass</th>\n      <th>Sex</th>\n      <th>Age</th>\n      <th>SibSp</th>\n      <th>Parch</th>\n      <th>Fare</th>\n      <th>Cabin</th>\n      <th>Embarked</th>\n    </tr>\n  </thead>\n  <tbody>\n    <tr>\n      <th>0</th>\n      <td>0</td>\n      <td>3</td>\n      <td>1</td>\n      <td>22.0</td>\n      <td>1</td>\n      <td>0</td>\n      <td>7.2500</td>\n      <td>47</td>\n      <td>2</td>\n    </tr>\n    <tr>\n      <th>1</th>\n      <td>1</td>\n      <td>1</td>\n      <td>0</td>\n      <td>38.0</td>\n      <td>1</td>\n      <td>0</td>\n      <td>71.2833</td>\n      <td>81</td>\n      <td>0</td>\n    </tr>\n    <tr>\n      <th>2</th>\n      <td>1</td>\n      <td>3</td>\n      <td>0</td>\n      <td>26.0</td>\n      <td>0</td>\n      <td>0</td>\n      <td>7.9250</td>\n      <td>47</td>\n      <td>2</td>\n    </tr>\n    <tr>\n      <th>3</th>\n      <td>1</td>\n      <td>1</td>\n      <td>0</td>\n      <td>35.0</td>\n      <td>1</td>\n      <td>0</td>\n      <td>53.1000</td>\n      <td>55</td>\n      <td>2</td>\n    </tr>\n    <tr>\n      <th>4</th>\n      <td>0</td>\n      <td>3</td>\n      <td>1</td>\n      <td>35.0</td>\n      <td>0</td>\n      <td>0</td>\n      <td>8.0500</td>\n      <td>47</td>\n      <td>2</td>\n    </tr>\n    <tr>\n      <th>...</th>\n      <td>...</td>\n      <td>...</td>\n      <td>...</td>\n      <td>...</td>\n      <td>...</td>\n      <td>...</td>\n      <td>...</td>\n      <td>...</td>\n      <td>...</td>\n    </tr>\n    <tr>\n      <th>886</th>\n      <td>0</td>\n      <td>2</td>\n      <td>1</td>\n      <td>27.0</td>\n      <td>0</td>\n      <td>0</td>\n      <td>13.0000</td>\n      <td>47</td>\n      <td>2</td>\n    </tr>\n    <tr>\n      <th>887</th>\n      <td>1</td>\n      <td>1</td>\n      <td>0</td>\n      <td>19.0</td>\n      <td>0</td>\n      <td>0</td>\n      <td>30.0000</td>\n      <td>30</td>\n      <td>2</td>\n    </tr>\n    <tr>\n      <th>888</th>\n      <td>0</td>\n      <td>3</td>\n      <td>0</td>\n      <td>28.0</td>\n      <td>1</td>\n      <td>2</td>\n      <td>23.4500</td>\n      <td>47</td>\n      <td>2</td>\n    </tr>\n    <tr>\n      <th>889</th>\n      <td>1</td>\n      <td>1</td>\n      <td>1</td>\n      <td>26.0</td>\n      <td>0</td>\n      <td>0</td>\n      <td>30.0000</td>\n      <td>60</td>\n      <td>0</td>\n    </tr>\n    <tr>\n      <th>890</th>\n      <td>0</td>\n      <td>3</td>\n      <td>1</td>\n      <td>32.0</td>\n      <td>0</td>\n      <td>0</td>\n      <td>7.7500</td>\n      <td>47</td>\n      <td>1</td>\n    </tr>\n  </tbody>\n</table>\n<p>891 rows × 9 columns</p>\n</div>"
     },
     "execution_count": 259,
     "metadata": {},
     "output_type": "execute_result"
    }
   ],
   "source": [
    "df_in"
   ],
   "metadata": {
    "collapsed": false,
    "ExecuteTime": {
     "end_time": "2024-10-30T12:53:22.541419064Z",
     "start_time": "2024-10-30T12:53:21.867851829Z"
    }
   },
   "id": "27a5cb32c2bfa3eb"
  },
  {
   "cell_type": "code",
   "execution_count": 260,
   "outputs": [
    {
     "data": {
      "text/plain": "         Survived      Pclass         Sex         Age       SibSp       Parch  \\\ncount  891.000000  891.000000  891.000000  891.000000  891.000000  891.000000   \nmean     0.383838    2.308642    0.647587   29.361582    0.523008    0.381594   \nstd      0.486592    0.836071    0.477990   13.019697    1.102743    0.806057   \nmin      0.000000    1.000000    0.000000    0.420000    0.000000    0.000000   \n25%      0.000000    2.000000    0.000000   22.000000    0.000000    0.000000   \n50%      0.000000    3.000000    1.000000   28.000000    0.000000    0.000000   \n75%      1.000000    3.000000    1.000000   35.000000    1.000000    0.000000   \nmax      1.000000    3.000000    1.000000   80.000000    8.000000    6.000000   \n\n             Fare       Cabin    Embarked  \ncount  891.000000  891.000000  891.000000  \nmean    32.204208   53.639731    1.536476  \nstd     49.693429   23.568293    0.791503  \nmin      0.000000    0.000000    0.000000  \n25%      7.910400   47.000000    1.000000  \n50%     14.454200   47.000000    2.000000  \n75%     31.000000   47.000000    2.000000  \nmax    512.329200  146.000000    2.000000  ",
      "text/html": "<div>\n<style scoped>\n    .dataframe tbody tr th:only-of-type {\n        vertical-align: middle;\n    }\n\n    .dataframe tbody tr th {\n        vertical-align: top;\n    }\n\n    .dataframe thead th {\n        text-align: right;\n    }\n</style>\n<table border=\"1\" class=\"dataframe\">\n  <thead>\n    <tr style=\"text-align: right;\">\n      <th></th>\n      <th>Survived</th>\n      <th>Pclass</th>\n      <th>Sex</th>\n      <th>Age</th>\n      <th>SibSp</th>\n      <th>Parch</th>\n      <th>Fare</th>\n      <th>Cabin</th>\n      <th>Embarked</th>\n    </tr>\n  </thead>\n  <tbody>\n    <tr>\n      <th>count</th>\n      <td>891.000000</td>\n      <td>891.000000</td>\n      <td>891.000000</td>\n      <td>891.000000</td>\n      <td>891.000000</td>\n      <td>891.000000</td>\n      <td>891.000000</td>\n      <td>891.000000</td>\n      <td>891.000000</td>\n    </tr>\n    <tr>\n      <th>mean</th>\n      <td>0.383838</td>\n      <td>2.308642</td>\n      <td>0.647587</td>\n      <td>29.361582</td>\n      <td>0.523008</td>\n      <td>0.381594</td>\n      <td>32.204208</td>\n      <td>53.639731</td>\n      <td>1.536476</td>\n    </tr>\n    <tr>\n      <th>std</th>\n      <td>0.486592</td>\n      <td>0.836071</td>\n      <td>0.477990</td>\n      <td>13.019697</td>\n      <td>1.102743</td>\n      <td>0.806057</td>\n      <td>49.693429</td>\n      <td>23.568293</td>\n      <td>0.791503</td>\n    </tr>\n    <tr>\n      <th>min</th>\n      <td>0.000000</td>\n      <td>1.000000</td>\n      <td>0.000000</td>\n      <td>0.420000</td>\n      <td>0.000000</td>\n      <td>0.000000</td>\n      <td>0.000000</td>\n      <td>0.000000</td>\n      <td>0.000000</td>\n    </tr>\n    <tr>\n      <th>25%</th>\n      <td>0.000000</td>\n      <td>2.000000</td>\n      <td>0.000000</td>\n      <td>22.000000</td>\n      <td>0.000000</td>\n      <td>0.000000</td>\n      <td>7.910400</td>\n      <td>47.000000</td>\n      <td>1.000000</td>\n    </tr>\n    <tr>\n      <th>50%</th>\n      <td>0.000000</td>\n      <td>3.000000</td>\n      <td>1.000000</td>\n      <td>28.000000</td>\n      <td>0.000000</td>\n      <td>0.000000</td>\n      <td>14.454200</td>\n      <td>47.000000</td>\n      <td>2.000000</td>\n    </tr>\n    <tr>\n      <th>75%</th>\n      <td>1.000000</td>\n      <td>3.000000</td>\n      <td>1.000000</td>\n      <td>35.000000</td>\n      <td>1.000000</td>\n      <td>0.000000</td>\n      <td>31.000000</td>\n      <td>47.000000</td>\n      <td>2.000000</td>\n    </tr>\n    <tr>\n      <th>max</th>\n      <td>1.000000</td>\n      <td>3.000000</td>\n      <td>1.000000</td>\n      <td>80.000000</td>\n      <td>8.000000</td>\n      <td>6.000000</td>\n      <td>512.329200</td>\n      <td>146.000000</td>\n      <td>2.000000</td>\n    </tr>\n  </tbody>\n</table>\n</div>"
     },
     "execution_count": 260,
     "metadata": {},
     "output_type": "execute_result"
    }
   ],
   "source": [
    "df_in.describe()"
   ],
   "metadata": {
    "collapsed": false,
    "ExecuteTime": {
     "end_time": "2024-10-30T12:53:22.582046252Z",
     "start_time": "2024-10-30T12:53:21.915177999Z"
    }
   },
   "id": "b2da146c741fd314"
  },
  {
   "cell_type": "markdown",
   "source": [
    "Проверим автокорреляции"
   ],
   "metadata": {
    "collapsed": false
   },
   "id": "efc8b884bada6591"
  },
  {
   "cell_type": "code",
   "execution_count": 261,
   "outputs": [
    {
     "data": {
      "application/vnd.plotly.v1+json": {
       "data": [
        {
         "coloraxis": "coloraxis",
         "name": "0",
         "x": [
          "Pclass",
          "Sex",
          "Age",
          "SibSp",
          "Parch",
          "Fare",
          "Cabin",
          "Embarked"
         ],
         "y": [
          "Pclass",
          "Sex",
          "Age",
          "SibSp",
          "Parch",
          "Fare",
          "Cabin",
          "Embarked"
         ],
         "z": [
          [
           0.0,
           0.13190049060473924,
           -0.33989832839258594,
           0.08308136284568686,
           0.018442671310748508,
           -0.5494996199439076,
           -0.24849543847456051,
           0.1620978044207293
          ],
          [
           0.13190049060473924,
           0.0,
           0.08116253523893886,
           -0.1146308103894224,
           -0.24548896009069898,
           -0.18233283380287008,
           -0.10264337826860039,
           0.10826220477995874
          ],
          [
           -0.33989832839258594,
           0.08116253523893886,
           0.0,
           -0.23329633125248891,
           -0.17248195403694871,
           0.0966884221803649,
           0.060533799877370474,
           -0.0187543168224416
          ],
          [
           0.08308136284568686,
           -0.1146308103894224,
           -0.23329633125248891,
           0.0,
           0.41483769862015624,
           0.159651043242161,
           -0.005538671320993708,
           0.06823028867536951
          ],
          [
           0.018442671310748508,
           -0.24548896009069898,
           -0.17248195403694871,
           0.41483769862015624,
           0.0,
           0.21622494477076448,
           0.022681502725746126,
           0.039798388117888654
          ],
          [
           -0.5494996199439076,
           -0.18233283380287008,
           0.0966884221803649,
           0.159651043242161,
           0.21622494477076448,
           0.0,
           0.09051591329162463,
           -0.2247193642195731
          ],
          [
           -0.24849543847456051,
           -0.10264337826860039,
           0.060533799877370474,
           -0.005538671320993708,
           0.022681502725746126,
           0.09051591329162463,
           0.0,
           0.023804323878926295
          ],
          [
           0.1620978044207293,
           0.10826220477995874,
           -0.0187543168224416,
           0.06823028867536951,
           0.039798388117888654,
           -0.2247193642195731,
           0.023804323878926295,
           0.0
          ]
         ],
         "type": "heatmap",
         "xaxis": "x",
         "yaxis": "y",
         "hovertemplate": "x: %{x}<br>y: %{y}<br>color: %{z}<extra></extra>"
        }
       ],
       "layout": {
        "template": {
         "data": {
          "histogram2dcontour": [
           {
            "type": "histogram2dcontour",
            "colorbar": {
             "outlinewidth": 0,
             "ticks": ""
            },
            "colorscale": [
             [
              0.0,
              "#0d0887"
             ],
             [
              0.1111111111111111,
              "#46039f"
             ],
             [
              0.2222222222222222,
              "#7201a8"
             ],
             [
              0.3333333333333333,
              "#9c179e"
             ],
             [
              0.4444444444444444,
              "#bd3786"
             ],
             [
              0.5555555555555556,
              "#d8576b"
             ],
             [
              0.6666666666666666,
              "#ed7953"
             ],
             [
              0.7777777777777778,
              "#fb9f3a"
             ],
             [
              0.8888888888888888,
              "#fdca26"
             ],
             [
              1.0,
              "#f0f921"
             ]
            ]
           }
          ],
          "choropleth": [
           {
            "type": "choropleth",
            "colorbar": {
             "outlinewidth": 0,
             "ticks": ""
            }
           }
          ],
          "histogram2d": [
           {
            "type": "histogram2d",
            "colorbar": {
             "outlinewidth": 0,
             "ticks": ""
            },
            "colorscale": [
             [
              0.0,
              "#0d0887"
             ],
             [
              0.1111111111111111,
              "#46039f"
             ],
             [
              0.2222222222222222,
              "#7201a8"
             ],
             [
              0.3333333333333333,
              "#9c179e"
             ],
             [
              0.4444444444444444,
              "#bd3786"
             ],
             [
              0.5555555555555556,
              "#d8576b"
             ],
             [
              0.6666666666666666,
              "#ed7953"
             ],
             [
              0.7777777777777778,
              "#fb9f3a"
             ],
             [
              0.8888888888888888,
              "#fdca26"
             ],
             [
              1.0,
              "#f0f921"
             ]
            ]
           }
          ],
          "heatmap": [
           {
            "type": "heatmap",
            "colorbar": {
             "outlinewidth": 0,
             "ticks": ""
            },
            "colorscale": [
             [
              0.0,
              "#0d0887"
             ],
             [
              0.1111111111111111,
              "#46039f"
             ],
             [
              0.2222222222222222,
              "#7201a8"
             ],
             [
              0.3333333333333333,
              "#9c179e"
             ],
             [
              0.4444444444444444,
              "#bd3786"
             ],
             [
              0.5555555555555556,
              "#d8576b"
             ],
             [
              0.6666666666666666,
              "#ed7953"
             ],
             [
              0.7777777777777778,
              "#fb9f3a"
             ],
             [
              0.8888888888888888,
              "#fdca26"
             ],
             [
              1.0,
              "#f0f921"
             ]
            ]
           }
          ],
          "heatmapgl": [
           {
            "type": "heatmapgl",
            "colorbar": {
             "outlinewidth": 0,
             "ticks": ""
            },
            "colorscale": [
             [
              0.0,
              "#0d0887"
             ],
             [
              0.1111111111111111,
              "#46039f"
             ],
             [
              0.2222222222222222,
              "#7201a8"
             ],
             [
              0.3333333333333333,
              "#9c179e"
             ],
             [
              0.4444444444444444,
              "#bd3786"
             ],
             [
              0.5555555555555556,
              "#d8576b"
             ],
             [
              0.6666666666666666,
              "#ed7953"
             ],
             [
              0.7777777777777778,
              "#fb9f3a"
             ],
             [
              0.8888888888888888,
              "#fdca26"
             ],
             [
              1.0,
              "#f0f921"
             ]
            ]
           }
          ],
          "contourcarpet": [
           {
            "type": "contourcarpet",
            "colorbar": {
             "outlinewidth": 0,
             "ticks": ""
            }
           }
          ],
          "contour": [
           {
            "type": "contour",
            "colorbar": {
             "outlinewidth": 0,
             "ticks": ""
            },
            "colorscale": [
             [
              0.0,
              "#0d0887"
             ],
             [
              0.1111111111111111,
              "#46039f"
             ],
             [
              0.2222222222222222,
              "#7201a8"
             ],
             [
              0.3333333333333333,
              "#9c179e"
             ],
             [
              0.4444444444444444,
              "#bd3786"
             ],
             [
              0.5555555555555556,
              "#d8576b"
             ],
             [
              0.6666666666666666,
              "#ed7953"
             ],
             [
              0.7777777777777778,
              "#fb9f3a"
             ],
             [
              0.8888888888888888,
              "#fdca26"
             ],
             [
              1.0,
              "#f0f921"
             ]
            ]
           }
          ],
          "surface": [
           {
            "type": "surface",
            "colorbar": {
             "outlinewidth": 0,
             "ticks": ""
            },
            "colorscale": [
             [
              0.0,
              "#0d0887"
             ],
             [
              0.1111111111111111,
              "#46039f"
             ],
             [
              0.2222222222222222,
              "#7201a8"
             ],
             [
              0.3333333333333333,
              "#9c179e"
             ],
             [
              0.4444444444444444,
              "#bd3786"
             ],
             [
              0.5555555555555556,
              "#d8576b"
             ],
             [
              0.6666666666666666,
              "#ed7953"
             ],
             [
              0.7777777777777778,
              "#fb9f3a"
             ],
             [
              0.8888888888888888,
              "#fdca26"
             ],
             [
              1.0,
              "#f0f921"
             ]
            ]
           }
          ],
          "mesh3d": [
           {
            "type": "mesh3d",
            "colorbar": {
             "outlinewidth": 0,
             "ticks": ""
            }
           }
          ],
          "scatter": [
           {
            "marker": {
             "line": {
              "color": "#283442"
             }
            },
            "type": "scatter"
           }
          ],
          "parcoords": [
           {
            "type": "parcoords",
            "line": {
             "colorbar": {
              "outlinewidth": 0,
              "ticks": ""
             }
            }
           }
          ],
          "scatterpolargl": [
           {
            "type": "scatterpolargl",
            "marker": {
             "colorbar": {
              "outlinewidth": 0,
              "ticks": ""
             }
            }
           }
          ],
          "bar": [
           {
            "error_x": {
             "color": "#f2f5fa"
            },
            "error_y": {
             "color": "#f2f5fa"
            },
            "marker": {
             "line": {
              "color": "rgb(17,17,17)",
              "width": 0.5
             },
             "pattern": {
              "fillmode": "overlay",
              "size": 10,
              "solidity": 0.2
             }
            },
            "type": "bar"
           }
          ],
          "scattergeo": [
           {
            "type": "scattergeo",
            "marker": {
             "colorbar": {
              "outlinewidth": 0,
              "ticks": ""
             }
            }
           }
          ],
          "scatterpolar": [
           {
            "type": "scatterpolar",
            "marker": {
             "colorbar": {
              "outlinewidth": 0,
              "ticks": ""
             }
            }
           }
          ],
          "histogram": [
           {
            "marker": {
             "pattern": {
              "fillmode": "overlay",
              "size": 10,
              "solidity": 0.2
             }
            },
            "type": "histogram"
           }
          ],
          "scattergl": [
           {
            "marker": {
             "line": {
              "color": "#283442"
             }
            },
            "type": "scattergl"
           }
          ],
          "scatter3d": [
           {
            "type": "scatter3d",
            "line": {
             "colorbar": {
              "outlinewidth": 0,
              "ticks": ""
             }
            },
            "marker": {
             "colorbar": {
              "outlinewidth": 0,
              "ticks": ""
             }
            }
           }
          ],
          "scattermapbox": [
           {
            "type": "scattermapbox",
            "marker": {
             "colorbar": {
              "outlinewidth": 0,
              "ticks": ""
             }
            }
           }
          ],
          "scatterternary": [
           {
            "type": "scatterternary",
            "marker": {
             "colorbar": {
              "outlinewidth": 0,
              "ticks": ""
             }
            }
           }
          ],
          "scattercarpet": [
           {
            "type": "scattercarpet",
            "marker": {
             "colorbar": {
              "outlinewidth": 0,
              "ticks": ""
             }
            }
           }
          ],
          "carpet": [
           {
            "aaxis": {
             "endlinecolor": "#A2B1C6",
             "gridcolor": "#506784",
             "linecolor": "#506784",
             "minorgridcolor": "#506784",
             "startlinecolor": "#A2B1C6"
            },
            "baxis": {
             "endlinecolor": "#A2B1C6",
             "gridcolor": "#506784",
             "linecolor": "#506784",
             "minorgridcolor": "#506784",
             "startlinecolor": "#A2B1C6"
            },
            "type": "carpet"
           }
          ],
          "table": [
           {
            "cells": {
             "fill": {
              "color": "#506784"
             },
             "line": {
              "color": "rgb(17,17,17)"
             }
            },
            "header": {
             "fill": {
              "color": "#2a3f5f"
             },
             "line": {
              "color": "rgb(17,17,17)"
             }
            },
            "type": "table"
           }
          ],
          "barpolar": [
           {
            "marker": {
             "line": {
              "color": "rgb(17,17,17)",
              "width": 0.5
             },
             "pattern": {
              "fillmode": "overlay",
              "size": 10,
              "solidity": 0.2
             }
            },
            "type": "barpolar"
           }
          ],
          "pie": [
           {
            "automargin": true,
            "type": "pie"
           }
          ]
         },
         "layout": {
          "autotypenumbers": "strict",
          "colorway": [
           "#636efa",
           "#EF553B",
           "#00cc96",
           "#ab63fa",
           "#FFA15A",
           "#19d3f3",
           "#FF6692",
           "#B6E880",
           "#FF97FF",
           "#FECB52"
          ],
          "font": {
           "color": "#f2f5fa"
          },
          "hovermode": "closest",
          "hoverlabel": {
           "align": "left"
          },
          "paper_bgcolor": "rgb(17,17,17)",
          "plot_bgcolor": "rgb(17,17,17)",
          "polar": {
           "bgcolor": "rgb(17,17,17)",
           "angularaxis": {
            "gridcolor": "#506784",
            "linecolor": "#506784",
            "ticks": ""
           },
           "radialaxis": {
            "gridcolor": "#506784",
            "linecolor": "#506784",
            "ticks": ""
           }
          },
          "ternary": {
           "bgcolor": "rgb(17,17,17)",
           "aaxis": {
            "gridcolor": "#506784",
            "linecolor": "#506784",
            "ticks": ""
           },
           "baxis": {
            "gridcolor": "#506784",
            "linecolor": "#506784",
            "ticks": ""
           },
           "caxis": {
            "gridcolor": "#506784",
            "linecolor": "#506784",
            "ticks": ""
           }
          },
          "coloraxis": {
           "colorbar": {
            "outlinewidth": 0,
            "ticks": ""
           }
          },
          "colorscale": {
           "sequential": [
            [
             0.0,
             "#0d0887"
            ],
            [
             0.1111111111111111,
             "#46039f"
            ],
            [
             0.2222222222222222,
             "#7201a8"
            ],
            [
             0.3333333333333333,
             "#9c179e"
            ],
            [
             0.4444444444444444,
             "#bd3786"
            ],
            [
             0.5555555555555556,
             "#d8576b"
            ],
            [
             0.6666666666666666,
             "#ed7953"
            ],
            [
             0.7777777777777778,
             "#fb9f3a"
            ],
            [
             0.8888888888888888,
             "#fdca26"
            ],
            [
             1.0,
             "#f0f921"
            ]
           ],
           "sequentialminus": [
            [
             0.0,
             "#0d0887"
            ],
            [
             0.1111111111111111,
             "#46039f"
            ],
            [
             0.2222222222222222,
             "#7201a8"
            ],
            [
             0.3333333333333333,
             "#9c179e"
            ],
            [
             0.4444444444444444,
             "#bd3786"
            ],
            [
             0.5555555555555556,
             "#d8576b"
            ],
            [
             0.6666666666666666,
             "#ed7953"
            ],
            [
             0.7777777777777778,
             "#fb9f3a"
            ],
            [
             0.8888888888888888,
             "#fdca26"
            ],
            [
             1.0,
             "#f0f921"
            ]
           ],
           "diverging": [
            [
             0,
             "#8e0152"
            ],
            [
             0.1,
             "#c51b7d"
            ],
            [
             0.2,
             "#de77ae"
            ],
            [
             0.3,
             "#f1b6da"
            ],
            [
             0.4,
             "#fde0ef"
            ],
            [
             0.5,
             "#f7f7f7"
            ],
            [
             0.6,
             "#e6f5d0"
            ],
            [
             0.7,
             "#b8e186"
            ],
            [
             0.8,
             "#7fbc41"
            ],
            [
             0.9,
             "#4d9221"
            ],
            [
             1,
             "#276419"
            ]
           ]
          },
          "xaxis": {
           "gridcolor": "#283442",
           "linecolor": "#506784",
           "ticks": "",
           "title": {
            "standoff": 15
           },
           "zerolinecolor": "#283442",
           "automargin": true,
           "zerolinewidth": 2
          },
          "yaxis": {
           "gridcolor": "#283442",
           "linecolor": "#506784",
           "ticks": "",
           "title": {
            "standoff": 15
           },
           "zerolinecolor": "#283442",
           "automargin": true,
           "zerolinewidth": 2
          },
          "scene": {
           "xaxis": {
            "backgroundcolor": "rgb(17,17,17)",
            "gridcolor": "#506784",
            "linecolor": "#506784",
            "showbackground": true,
            "ticks": "",
            "zerolinecolor": "#C8D4E3",
            "gridwidth": 2
           },
           "yaxis": {
            "backgroundcolor": "rgb(17,17,17)",
            "gridcolor": "#506784",
            "linecolor": "#506784",
            "showbackground": true,
            "ticks": "",
            "zerolinecolor": "#C8D4E3",
            "gridwidth": 2
           },
           "zaxis": {
            "backgroundcolor": "rgb(17,17,17)",
            "gridcolor": "#506784",
            "linecolor": "#506784",
            "showbackground": true,
            "ticks": "",
            "zerolinecolor": "#C8D4E3",
            "gridwidth": 2
           }
          },
          "shapedefaults": {
           "line": {
            "color": "#f2f5fa"
           }
          },
          "annotationdefaults": {
           "arrowcolor": "#f2f5fa",
           "arrowhead": 0,
           "arrowwidth": 1
          },
          "geo": {
           "bgcolor": "rgb(17,17,17)",
           "landcolor": "rgb(17,17,17)",
           "subunitcolor": "#506784",
           "showland": true,
           "showlakes": true,
           "lakecolor": "rgb(17,17,17)"
          },
          "title": {
           "x": 0.05
          },
          "updatemenudefaults": {
           "bgcolor": "#506784",
           "borderwidth": 0
          },
          "sliderdefaults": {
           "bgcolor": "#C8D4E3",
           "borderwidth": 1,
           "bordercolor": "rgb(17,17,17)",
           "tickwidth": 0
          },
          "mapbox": {
           "style": "dark"
          }
         }
        },
        "xaxis": {
         "anchor": "y",
         "domain": [
          0.0,
          1.0
         ],
         "scaleanchor": "y",
         "constrain": "domain"
        },
        "yaxis": {
         "anchor": "x",
         "domain": [
          0.0,
          1.0
         ],
         "autorange": "reversed",
         "constrain": "domain"
        },
        "coloraxis": {
         "colorscale": [
          [
           0.0,
           "rgb(0,0,255)"
          ],
          [
           0.1,
           "rgb(51,153,255)"
          ],
          [
           0.2,
           "rgb(102,204,255)"
          ],
          [
           0.3,
           "rgb(153,204,255)"
          ],
          [
           0.4,
           "rgb(204,204,255)"
          ],
          [
           0.5,
           "rgb(255,255,255)"
          ],
          [
           0.6,
           "rgb(255,204,255)"
          ],
          [
           0.7,
           "rgb(255,153,255)"
          ],
          [
           0.8,
           "rgb(255,102,204)"
          ],
          [
           0.9,
           "rgb(255,102,102)"
          ],
          [
           1.0,
           "rgb(255,0,0)"
          ]
         ]
        },
        "margin": {
         "t": 60
        }
       },
       "config": {
        "plotlyServerURL": "https://plot.ly"
       }
      },
      "text/html": "<div>                            <div id=\"660adbcd-5aaf-4fd7-9b14-d6746325d042\" class=\"plotly-graph-div\" style=\"height:525px; width:100%;\"></div>            <script type=\"text/javascript\">                require([\"plotly\"], function(Plotly) {                    window.PLOTLYENV=window.PLOTLYENV || {};                                    if (document.getElementById(\"660adbcd-5aaf-4fd7-9b14-d6746325d042\")) {                    Plotly.newPlot(                        \"660adbcd-5aaf-4fd7-9b14-d6746325d042\",                        [{\"coloraxis\":\"coloraxis\",\"name\":\"0\",\"x\":[\"Pclass\",\"Sex\",\"Age\",\"SibSp\",\"Parch\",\"Fare\",\"Cabin\",\"Embarked\"],\"y\":[\"Pclass\",\"Sex\",\"Age\",\"SibSp\",\"Parch\",\"Fare\",\"Cabin\",\"Embarked\"],\"z\":[[0.0,0.13190049060473924,-0.33989832839258594,0.08308136284568686,0.018442671310748508,-0.5494996199439076,-0.24849543847456051,0.1620978044207293],[0.13190049060473924,0.0,0.08116253523893886,-0.1146308103894224,-0.24548896009069898,-0.18233283380287008,-0.10264337826860039,0.10826220477995874],[-0.33989832839258594,0.08116253523893886,0.0,-0.23329633125248891,-0.17248195403694871,0.0966884221803649,0.060533799877370474,-0.0187543168224416],[0.08308136284568686,-0.1146308103894224,-0.23329633125248891,0.0,0.41483769862015624,0.159651043242161,-0.005538671320993708,0.06823028867536951],[0.018442671310748508,-0.24548896009069898,-0.17248195403694871,0.41483769862015624,0.0,0.21622494477076448,0.022681502725746126,0.039798388117888654],[-0.5494996199439076,-0.18233283380287008,0.0966884221803649,0.159651043242161,0.21622494477076448,0.0,0.09051591329162463,-0.2247193642195731],[-0.24849543847456051,-0.10264337826860039,0.060533799877370474,-0.005538671320993708,0.022681502725746126,0.09051591329162463,0.0,0.023804323878926295],[0.1620978044207293,0.10826220477995874,-0.0187543168224416,0.06823028867536951,0.039798388117888654,-0.2247193642195731,0.023804323878926295,0.0]],\"type\":\"heatmap\",\"xaxis\":\"x\",\"yaxis\":\"y\",\"hovertemplate\":\"x: %{x}\\u003cbr\\u003ey: %{y}\\u003cbr\\u003ecolor: %{z}\\u003cextra\\u003e\\u003c\\u002fextra\\u003e\"}],                        {\"template\":{\"data\":{\"histogram2dcontour\":[{\"type\":\"histogram2dcontour\",\"colorbar\":{\"outlinewidth\":0,\"ticks\":\"\"},\"colorscale\":[[0.0,\"#0d0887\"],[0.1111111111111111,\"#46039f\"],[0.2222222222222222,\"#7201a8\"],[0.3333333333333333,\"#9c179e\"],[0.4444444444444444,\"#bd3786\"],[0.5555555555555556,\"#d8576b\"],[0.6666666666666666,\"#ed7953\"],[0.7777777777777778,\"#fb9f3a\"],[0.8888888888888888,\"#fdca26\"],[1.0,\"#f0f921\"]]}],\"choropleth\":[{\"type\":\"choropleth\",\"colorbar\":{\"outlinewidth\":0,\"ticks\":\"\"}}],\"histogram2d\":[{\"type\":\"histogram2d\",\"colorbar\":{\"outlinewidth\":0,\"ticks\":\"\"},\"colorscale\":[[0.0,\"#0d0887\"],[0.1111111111111111,\"#46039f\"],[0.2222222222222222,\"#7201a8\"],[0.3333333333333333,\"#9c179e\"],[0.4444444444444444,\"#bd3786\"],[0.5555555555555556,\"#d8576b\"],[0.6666666666666666,\"#ed7953\"],[0.7777777777777778,\"#fb9f3a\"],[0.8888888888888888,\"#fdca26\"],[1.0,\"#f0f921\"]]}],\"heatmap\":[{\"type\":\"heatmap\",\"colorbar\":{\"outlinewidth\":0,\"ticks\":\"\"},\"colorscale\":[[0.0,\"#0d0887\"],[0.1111111111111111,\"#46039f\"],[0.2222222222222222,\"#7201a8\"],[0.3333333333333333,\"#9c179e\"],[0.4444444444444444,\"#bd3786\"],[0.5555555555555556,\"#d8576b\"],[0.6666666666666666,\"#ed7953\"],[0.7777777777777778,\"#fb9f3a\"],[0.8888888888888888,\"#fdca26\"],[1.0,\"#f0f921\"]]}],\"heatmapgl\":[{\"type\":\"heatmapgl\",\"colorbar\":{\"outlinewidth\":0,\"ticks\":\"\"},\"colorscale\":[[0.0,\"#0d0887\"],[0.1111111111111111,\"#46039f\"],[0.2222222222222222,\"#7201a8\"],[0.3333333333333333,\"#9c179e\"],[0.4444444444444444,\"#bd3786\"],[0.5555555555555556,\"#d8576b\"],[0.6666666666666666,\"#ed7953\"],[0.7777777777777778,\"#fb9f3a\"],[0.8888888888888888,\"#fdca26\"],[1.0,\"#f0f921\"]]}],\"contourcarpet\":[{\"type\":\"contourcarpet\",\"colorbar\":{\"outlinewidth\":0,\"ticks\":\"\"}}],\"contour\":[{\"type\":\"contour\",\"colorbar\":{\"outlinewidth\":0,\"ticks\":\"\"},\"colorscale\":[[0.0,\"#0d0887\"],[0.1111111111111111,\"#46039f\"],[0.2222222222222222,\"#7201a8\"],[0.3333333333333333,\"#9c179e\"],[0.4444444444444444,\"#bd3786\"],[0.5555555555555556,\"#d8576b\"],[0.6666666666666666,\"#ed7953\"],[0.7777777777777778,\"#fb9f3a\"],[0.8888888888888888,\"#fdca26\"],[1.0,\"#f0f921\"]]}],\"surface\":[{\"type\":\"surface\",\"colorbar\":{\"outlinewidth\":0,\"ticks\":\"\"},\"colorscale\":[[0.0,\"#0d0887\"],[0.1111111111111111,\"#46039f\"],[0.2222222222222222,\"#7201a8\"],[0.3333333333333333,\"#9c179e\"],[0.4444444444444444,\"#bd3786\"],[0.5555555555555556,\"#d8576b\"],[0.6666666666666666,\"#ed7953\"],[0.7777777777777778,\"#fb9f3a\"],[0.8888888888888888,\"#fdca26\"],[1.0,\"#f0f921\"]]}],\"mesh3d\":[{\"type\":\"mesh3d\",\"colorbar\":{\"outlinewidth\":0,\"ticks\":\"\"}}],\"scatter\":[{\"marker\":{\"line\":{\"color\":\"#283442\"}},\"type\":\"scatter\"}],\"parcoords\":[{\"type\":\"parcoords\",\"line\":{\"colorbar\":{\"outlinewidth\":0,\"ticks\":\"\"}}}],\"scatterpolargl\":[{\"type\":\"scatterpolargl\",\"marker\":{\"colorbar\":{\"outlinewidth\":0,\"ticks\":\"\"}}}],\"bar\":[{\"error_x\":{\"color\":\"#f2f5fa\"},\"error_y\":{\"color\":\"#f2f5fa\"},\"marker\":{\"line\":{\"color\":\"rgb(17,17,17)\",\"width\":0.5},\"pattern\":{\"fillmode\":\"overlay\",\"size\":10,\"solidity\":0.2}},\"type\":\"bar\"}],\"scattergeo\":[{\"type\":\"scattergeo\",\"marker\":{\"colorbar\":{\"outlinewidth\":0,\"ticks\":\"\"}}}],\"scatterpolar\":[{\"type\":\"scatterpolar\",\"marker\":{\"colorbar\":{\"outlinewidth\":0,\"ticks\":\"\"}}}],\"histogram\":[{\"marker\":{\"pattern\":{\"fillmode\":\"overlay\",\"size\":10,\"solidity\":0.2}},\"type\":\"histogram\"}],\"scattergl\":[{\"marker\":{\"line\":{\"color\":\"#283442\"}},\"type\":\"scattergl\"}],\"scatter3d\":[{\"type\":\"scatter3d\",\"line\":{\"colorbar\":{\"outlinewidth\":0,\"ticks\":\"\"}},\"marker\":{\"colorbar\":{\"outlinewidth\":0,\"ticks\":\"\"}}}],\"scattermapbox\":[{\"type\":\"scattermapbox\",\"marker\":{\"colorbar\":{\"outlinewidth\":0,\"ticks\":\"\"}}}],\"scatterternary\":[{\"type\":\"scatterternary\",\"marker\":{\"colorbar\":{\"outlinewidth\":0,\"ticks\":\"\"}}}],\"scattercarpet\":[{\"type\":\"scattercarpet\",\"marker\":{\"colorbar\":{\"outlinewidth\":0,\"ticks\":\"\"}}}],\"carpet\":[{\"aaxis\":{\"endlinecolor\":\"#A2B1C6\",\"gridcolor\":\"#506784\",\"linecolor\":\"#506784\",\"minorgridcolor\":\"#506784\",\"startlinecolor\":\"#A2B1C6\"},\"baxis\":{\"endlinecolor\":\"#A2B1C6\",\"gridcolor\":\"#506784\",\"linecolor\":\"#506784\",\"minorgridcolor\":\"#506784\",\"startlinecolor\":\"#A2B1C6\"},\"type\":\"carpet\"}],\"table\":[{\"cells\":{\"fill\":{\"color\":\"#506784\"},\"line\":{\"color\":\"rgb(17,17,17)\"}},\"header\":{\"fill\":{\"color\":\"#2a3f5f\"},\"line\":{\"color\":\"rgb(17,17,17)\"}},\"type\":\"table\"}],\"barpolar\":[{\"marker\":{\"line\":{\"color\":\"rgb(17,17,17)\",\"width\":0.5},\"pattern\":{\"fillmode\":\"overlay\",\"size\":10,\"solidity\":0.2}},\"type\":\"barpolar\"}],\"pie\":[{\"automargin\":true,\"type\":\"pie\"}]},\"layout\":{\"autotypenumbers\":\"strict\",\"colorway\":[\"#636efa\",\"#EF553B\",\"#00cc96\",\"#ab63fa\",\"#FFA15A\",\"#19d3f3\",\"#FF6692\",\"#B6E880\",\"#FF97FF\",\"#FECB52\"],\"font\":{\"color\":\"#f2f5fa\"},\"hovermode\":\"closest\",\"hoverlabel\":{\"align\":\"left\"},\"paper_bgcolor\":\"rgb(17,17,17)\",\"plot_bgcolor\":\"rgb(17,17,17)\",\"polar\":{\"bgcolor\":\"rgb(17,17,17)\",\"angularaxis\":{\"gridcolor\":\"#506784\",\"linecolor\":\"#506784\",\"ticks\":\"\"},\"radialaxis\":{\"gridcolor\":\"#506784\",\"linecolor\":\"#506784\",\"ticks\":\"\"}},\"ternary\":{\"bgcolor\":\"rgb(17,17,17)\",\"aaxis\":{\"gridcolor\":\"#506784\",\"linecolor\":\"#506784\",\"ticks\":\"\"},\"baxis\":{\"gridcolor\":\"#506784\",\"linecolor\":\"#506784\",\"ticks\":\"\"},\"caxis\":{\"gridcolor\":\"#506784\",\"linecolor\":\"#506784\",\"ticks\":\"\"}},\"coloraxis\":{\"colorbar\":{\"outlinewidth\":0,\"ticks\":\"\"}},\"colorscale\":{\"sequential\":[[0.0,\"#0d0887\"],[0.1111111111111111,\"#46039f\"],[0.2222222222222222,\"#7201a8\"],[0.3333333333333333,\"#9c179e\"],[0.4444444444444444,\"#bd3786\"],[0.5555555555555556,\"#d8576b\"],[0.6666666666666666,\"#ed7953\"],[0.7777777777777778,\"#fb9f3a\"],[0.8888888888888888,\"#fdca26\"],[1.0,\"#f0f921\"]],\"sequentialminus\":[[0.0,\"#0d0887\"],[0.1111111111111111,\"#46039f\"],[0.2222222222222222,\"#7201a8\"],[0.3333333333333333,\"#9c179e\"],[0.4444444444444444,\"#bd3786\"],[0.5555555555555556,\"#d8576b\"],[0.6666666666666666,\"#ed7953\"],[0.7777777777777778,\"#fb9f3a\"],[0.8888888888888888,\"#fdca26\"],[1.0,\"#f0f921\"]],\"diverging\":[[0,\"#8e0152\"],[0.1,\"#c51b7d\"],[0.2,\"#de77ae\"],[0.3,\"#f1b6da\"],[0.4,\"#fde0ef\"],[0.5,\"#f7f7f7\"],[0.6,\"#e6f5d0\"],[0.7,\"#b8e186\"],[0.8,\"#7fbc41\"],[0.9,\"#4d9221\"],[1,\"#276419\"]]},\"xaxis\":{\"gridcolor\":\"#283442\",\"linecolor\":\"#506784\",\"ticks\":\"\",\"title\":{\"standoff\":15},\"zerolinecolor\":\"#283442\",\"automargin\":true,\"zerolinewidth\":2},\"yaxis\":{\"gridcolor\":\"#283442\",\"linecolor\":\"#506784\",\"ticks\":\"\",\"title\":{\"standoff\":15},\"zerolinecolor\":\"#283442\",\"automargin\":true,\"zerolinewidth\":2},\"scene\":{\"xaxis\":{\"backgroundcolor\":\"rgb(17,17,17)\",\"gridcolor\":\"#506784\",\"linecolor\":\"#506784\",\"showbackground\":true,\"ticks\":\"\",\"zerolinecolor\":\"#C8D4E3\",\"gridwidth\":2},\"yaxis\":{\"backgroundcolor\":\"rgb(17,17,17)\",\"gridcolor\":\"#506784\",\"linecolor\":\"#506784\",\"showbackground\":true,\"ticks\":\"\",\"zerolinecolor\":\"#C8D4E3\",\"gridwidth\":2},\"zaxis\":{\"backgroundcolor\":\"rgb(17,17,17)\",\"gridcolor\":\"#506784\",\"linecolor\":\"#506784\",\"showbackground\":true,\"ticks\":\"\",\"zerolinecolor\":\"#C8D4E3\",\"gridwidth\":2}},\"shapedefaults\":{\"line\":{\"color\":\"#f2f5fa\"}},\"annotationdefaults\":{\"arrowcolor\":\"#f2f5fa\",\"arrowhead\":0,\"arrowwidth\":1},\"geo\":{\"bgcolor\":\"rgb(17,17,17)\",\"landcolor\":\"rgb(17,17,17)\",\"subunitcolor\":\"#506784\",\"showland\":true,\"showlakes\":true,\"lakecolor\":\"rgb(17,17,17)\"},\"title\":{\"x\":0.05},\"updatemenudefaults\":{\"bgcolor\":\"#506784\",\"borderwidth\":0},\"sliderdefaults\":{\"bgcolor\":\"#C8D4E3\",\"borderwidth\":1,\"bordercolor\":\"rgb(17,17,17)\",\"tickwidth\":0},\"mapbox\":{\"style\":\"dark\"}}},\"xaxis\":{\"anchor\":\"y\",\"domain\":[0.0,1.0],\"scaleanchor\":\"y\",\"constrain\":\"domain\"},\"yaxis\":{\"anchor\":\"x\",\"domain\":[0.0,1.0],\"autorange\":\"reversed\",\"constrain\":\"domain\"},\"coloraxis\":{\"colorscale\":[[0.0,\"rgb(0,0,255)\"],[0.1,\"rgb(51,153,255)\"],[0.2,\"rgb(102,204,255)\"],[0.3,\"rgb(153,204,255)\"],[0.4,\"rgb(204,204,255)\"],[0.5,\"rgb(255,255,255)\"],[0.6,\"rgb(255,204,255)\"],[0.7,\"rgb(255,153,255)\"],[0.8,\"rgb(255,102,204)\"],[0.9,\"rgb(255,102,102)\"],[1.0,\"rgb(255,0,0)\"]]},\"margin\":{\"t\":60}},                        {\"responsive\": true}                    ).then(function(){\n                            \nvar gd = document.getElementById('660adbcd-5aaf-4fd7-9b14-d6746325d042');\nvar x = new MutationObserver(function (mutations, observer) {{\n        var display = window.getComputedStyle(gd).display;\n        if (!display || display === 'none') {{\n            console.log([gd, 'removed!']);\n            Plotly.purge(gd);\n            observer.disconnect();\n        }}\n}});\n\n// Listen for the removal of the full notebook cells\nvar notebookContainer = gd.closest('#notebook-container');\nif (notebookContainer) {{\n    x.observe(notebookContainer, {childList: true});\n}}\n\n// Listen for the clearing of the current output cell\nvar outputEl = gd.closest('.output');\nif (outputEl) {{\n    x.observe(outputEl, {childList: true});\n}}\n\n                        })                };                });            </script>        </div>"
     },
     "metadata": {},
     "output_type": "display_data"
    }
   ],
   "source": [
    "corr = df_in.drop('Survived', axis=1).corr()\n",
    "corr[corr == 1] = 0\n",
    "px.imshow(corr, color_continuous_scale=\"Picnic\")"
   ],
   "metadata": {
    "collapsed": false,
    "ExecuteTime": {
     "end_time": "2024-10-30T12:53:22.727403340Z",
     "start_time": "2024-10-30T12:53:22.112777884Z"
    }
   },
   "id": "8cb594a0908e64e6"
  },
  {
   "cell_type": "code",
   "execution_count": 262,
   "outputs": [],
   "source": [
    "df_in = df_in.drop(['Fare', 'Parch'], axis=1)"
   ],
   "metadata": {
    "collapsed": false,
    "ExecuteTime": {
     "end_time": "2024-10-30T12:53:22.728418764Z",
     "start_time": "2024-10-30T12:53:22.220781183Z"
    }
   },
   "id": "1a52606458003377"
  },
  {
   "cell_type": "markdown",
   "id": "ce3c0d700ddc2aa7",
   "metadata": {
    "collapsed": false
   },
   "source": [
    "Нормализуем данные"
   ]
  },
  {
   "cell_type": "code",
   "execution_count": 263,
   "id": "9238614a-887b-453c-8183-06da8a2e8f15",
   "metadata": {
    "ExecuteTime": {
     "end_time": "2024-10-30T12:53:23.118019904Z",
     "start_time": "2024-10-30T12:53:22.459312345Z"
    }
   },
   "outputs": [],
   "source": [
    "df_n = (df_in - df_in.min()) / (df_in.max() - df_in.min())"
   ]
  },
  {
   "cell_type": "markdown",
   "id": "c5ddd292c15739cb",
   "metadata": {
    "collapsed": false
   },
   "source": [
    "Разделим тренировочную и тестовую выборку"
   ]
  },
  {
   "cell_type": "code",
   "execution_count": 264,
   "id": "a5b29716-12eb-488a-94fe-bcc889c45c83",
   "metadata": {
    "ExecuteTime": {
     "end_time": "2024-10-30T12:53:23.561351116Z",
     "start_time": "2024-10-30T12:53:23.095151860Z"
    }
   },
   "outputs": [
    {
     "name": "stdout",
     "output_type": "stream",
     "text": [
      "(713, 7) (178, 7)\n"
     ]
    }
   ],
   "source": [
    "train_size = 0.8\n",
    "\n",
    "df_train = df_n.sample(frac=train_size, random_state=42)\n",
    "df_test = df_n.drop(df_train.index)\n",
    "\n",
    "tgt = 'Survived'\n",
    "x_train, y_train = df_train.drop(tgt, axis=1), df_train[tgt]\n",
    "x_test, y_test = df_test.drop(tgt, axis=1), df_test[tgt]\n",
    "\n",
    "print(df_train.shape, df_test.shape)"
   ]
  },
  {
   "cell_type": "markdown",
   "source": [
    "Метрики"
   ],
   "metadata": {
    "collapsed": false
   },
   "id": "931ab7c6b7325e92"
  },
  {
   "cell_type": "code",
   "execution_count": 265,
   "outputs": [],
   "source": [
    "def stat(y, y_pred):\n",
    "    m = [\n",
    "        [np.sum((y == r) & (y_pred == p)) for r in range(2)]\n",
    "        for p in range(2)\n",
    "    ]  # m[pred][true]\n",
    "    return dict(\n",
    "        tp=m[1][1],\n",
    "        tn=m[0][0],\n",
    "        fp=m[1][0],\n",
    "        fn=m[0][1],\n",
    "        n=y.shape[0],\n",
    "        mat=m\n",
    "    )\n",
    "\n",
    "\n",
    "def accuracy(stats: dict):\n",
    "    return (stats['tp'] + stats['tn']) / stats['n']\n",
    "\n",
    "\n",
    "def precision(stats: dict):\n",
    "    if (q := (stats['tp'] + stats['fp'])) == 0: return 0\n",
    "    return stats['tp'] / q\n",
    "\n",
    "\n",
    "def recall(stats: dict):\n",
    "    if (q := (stats['tp'] + stats['fn'])) == 0: return 0\n",
    "    return stats['tp'] / q\n",
    "\n",
    "\n",
    "def f1(stats: dict):\n",
    "    p, r = precision(stats), recall(stats)\n",
    "    if (q := (p + r)) == 0: return 0\n",
    "    return 2 * p * r / q\n",
    "\n",
    "\n",
    "def TPR(stats: dict):\n",
    "    return stats['tp'] / (stats['tp'] + stats['fn'])\n",
    "\n",
    "\n",
    "def FPR(stats: dict):\n",
    "    return stats['fp'] / (stats['fp'] + stats['tn'])"
   ],
   "metadata": {
    "collapsed": false,
    "ExecuteTime": {
     "end_time": "2024-10-30T12:53:24.757031759Z",
     "start_time": "2024-10-30T12:53:24.503618433Z"
    }
   },
   "id": "364aeb07485f6ab1"
  },
  {
   "cell_type": "code",
   "execution_count": 266,
   "outputs": [],
   "source": [
    "def sigmoid(x):\n",
    "    return 1 / (1 + np.exp(-x))\n",
    "\n",
    "\n",
    "def log_loss(y_true, y_pred, eps=1e-11):\n",
    "    y_pred = np.clip(y_pred, eps, 1 - eps)\n",
    "    return np.mean(-y_true * np.log(y_pred) - (1 - y_true) * np.log(1 - y_pred))"
   ],
   "metadata": {
    "collapsed": false,
    "ExecuteTime": {
     "end_time": "2024-10-30T12:53:25.393897455Z",
     "start_time": "2024-10-30T12:53:25.226128387Z"
    }
   },
   "id": "819b98af4259a073"
  },
  {
   "cell_type": "markdown",
   "source": [
    "Логистическая регрессия"
   ],
   "metadata": {
    "collapsed": false
   },
   "id": "10f20a5c1af21f8"
  },
  {
   "cell_type": "code",
   "execution_count": 273,
   "outputs": [],
   "source": [
    "@dataclass\n",
    "class LRParams:\n",
    "    rate: float = 0.01\n",
    "    epochs: int = 100\n",
    "    method: int = 0\n",
    "\n",
    "    def as_np(self):\n",
    "        return np.array([self.rate, self.epochs, self.method])\n",
    "\n",
    "    @staticmethod\n",
    "    def from_np(data):\n",
    "        return LRParams(data[0], int(data[1]), int(data[2]))\n",
    "\n",
    "\n",
    "class LogisticRegression:\n",
    "    def __init__(self, config: Optional[LRParams] = None):\n",
    "        self.config = config if config else LRParams()\n",
    "        self.__methods = (self.__step_gd, self.__step_newton)\n",
    "        self.__w = None\n",
    "\n",
    "    def fit(self, x, y):\n",
    "        step = self.__methods[self.config.method]\n",
    "\n",
    "        x = np.hstack((np.ones((x.shape[0], 1)), x)) # bias\n",
    "        self.__w = np.zeros(x.shape[1])\n",
    "\n",
    "        train_loss_hist = []\n",
    "        for _ in range(self.config.epochs):\n",
    "            y_pred = sigmoid(np.dot(x, self.__w))\n",
    "            step(x, y, y_pred)\n",
    "            train_loss_hist.append(log_loss(y, y_pred))\n",
    "                        \n",
    "        return train_loss_hist\n",
    "\n",
    "    def __step_gd(self, x, y, y_pred):\n",
    "        n = x.shape[0]\n",
    "        grad = np.dot(x.T, (y_pred - y)) / n    \n",
    "        self.__w -= self.config.rate * grad\n",
    "\n",
    "    def __step_newton(self, x, y, y_pred):\n",
    "        n = x.shape[0]\n",
    "        grad = np.dot(x.T, (y_pred - y)) / n\n",
    "        hess = np.dot(x.T * y_pred * (1 - y_pred), x)\n",
    "        delta = np.linalg.solve(hess, grad)\n",
    "        self.__w -= delta\n",
    "\n",
    "    def predict(self, x):\n",
    "        x = np.hstack((np.ones((x.shape[0], 1)), x))\n",
    "        out = sigmoid(np.dot(x, self.__w))\n",
    "        return out.round().astype(int), out\n"
   ],
   "metadata": {
    "collapsed": false,
    "ExecuteTime": {
     "end_time": "2024-10-30T13:27:09.981098891Z",
     "start_time": "2024-10-30T13:27:09.883084169Z"
    }
   },
   "id": "2028f1dcfbcab625"
  },
  {
   "cell_type": "code",
   "execution_count": 274,
   "outputs": [],
   "source": [
    "def runner(params, gui=False):\n",
    "    reg = LogisticRegression(params)\n",
    "    loss_hist = reg.fit(x_train, y_train)\n",
    "    if gui:\n",
    "        px.line(loss_hist).show()\n",
    "\n",
    "    y_pred, y_prob = reg.predict(x_test)\n",
    "    stats = stat(y_test, y_pred)\n",
    "    test_loss = log_loss(y_test, y_pred)\n",
    "\n",
    "    return dict(\n",
    "        accuracy=accuracy(stats),\n",
    "        precision=precision(stats),\n",
    "        recall=recall(stats),\n",
    "        f1=f1(stats),\n",
    "        train_loss=loss_hist[-1],\n",
    "        test_loss=test_loss\n",
    "    )"
   ],
   "metadata": {
    "collapsed": false,
    "ExecuteTime": {
     "end_time": "2024-10-30T13:27:10.099950616Z",
     "start_time": "2024-10-30T13:27:09.985977176Z"
    }
   },
   "id": "1f0cd1092274510a"
  },
  {
   "cell_type": "code",
   "execution_count": 275,
   "outputs": [],
   "source": [
    "def comb(list2d):\n",
    "    return np.array(np.meshgrid(*list2d)).T.reshape(-1, len(list2d))"
   ],
   "metadata": {
    "collapsed": false,
    "ExecuteTime": {
     "end_time": "2024-10-30T13:27:10.365822328Z",
     "start_time": "2024-10-30T13:27:10.239144502Z"
    }
   },
   "id": "f54f3cd00a320dd9"
  },
  {
   "cell_type": "code",
   "execution_count": 276,
   "outputs": [
    {
     "name": "stderr",
     "output_type": "stream",
     "text": [
      "100%|██████████| 24/24 [00:18<00:00,  1.30it/s]\n"
     ]
    },
    {
     "data": {
      "text/plain": "     rate  epochs  method  accuracy  precision    recall        f1  \\\n0   1.000     100       0  0.814607   0.750000  0.738462  0.744186   \n1   1.000     500       0  0.803371   0.720588  0.753846  0.736842   \n2   1.000    1000       0  0.792135   0.705882  0.738462  0.721805   \n3   0.100     100       0  0.735955   0.950000  0.292308  0.447059   \n4   0.100     500       0  0.808989   0.754098  0.707692  0.730159   \n5   0.100    1000       0  0.814607   0.750000  0.738462  0.744186   \n6   0.010     100       0  0.634831   0.000000  0.000000  0.000000   \n7   0.010     500       0  0.662921   1.000000  0.076923  0.142857   \n8   0.010    1000       0  0.735955   0.950000  0.292308  0.447059   \n9   0.001     100       0  0.634831   0.000000  0.000000  0.000000   \n10  0.001     500       0  0.634831   0.000000  0.000000  0.000000   \n11  0.001    1000       0  0.634831   0.000000  0.000000  0.000000   \n12  1.000     100       1  0.803371   0.727273  0.738462  0.732824   \n13  1.000     500       1  0.803371   0.727273  0.738462  0.732824   \n14  1.000    1000       1  0.797753   0.723077  0.723077  0.723077   \n15  0.100     100       1  0.803371   0.727273  0.738462  0.732824   \n16  0.100     500       1  0.803371   0.727273  0.738462  0.732824   \n17  0.100    1000       1  0.797753   0.723077  0.723077  0.723077   \n18  0.010     100       1  0.803371   0.727273  0.738462  0.732824   \n19  0.010     500       1  0.803371   0.727273  0.738462  0.732824   \n20  0.010    1000       1  0.797753   0.723077  0.723077  0.723077   \n21  0.001     100       1  0.803371   0.727273  0.738462  0.732824   \n22  0.001     500       1  0.803371   0.727273  0.738462  0.732824   \n23  0.001    1000       1  0.797753   0.723077  0.723077  0.723077   \n\n    train_loss  test_loss  \n0     0.465608   4.695721  \n1     0.445186   4.980310  \n2     0.441738   5.264900  \n3     0.558892   6.687845  \n4     0.481415   4.838016  \n5     0.465537   4.695721  \n6     0.641314   9.249148  \n7     0.590820   8.537675  \n8     0.558506   6.687845  \n9     0.684946   9.249148  \n10    0.660137   9.249148  \n11    0.641109   9.249148  \n12    0.640923   4.980310  \n13    0.522277   4.980310  \n14    0.466868   5.122605  \n15    0.640923   4.980310  \n16    0.522277   4.980310  \n17    0.466868   5.122605  \n18    0.640923   4.980310  \n19    0.522277   4.980310  \n20    0.466868   5.122605  \n21    0.640923   4.980310  \n22    0.522277   4.980310  \n23    0.466868   5.122605  ",
      "text/html": "<div>\n<style scoped>\n    .dataframe tbody tr th:only-of-type {\n        vertical-align: middle;\n    }\n\n    .dataframe tbody tr th {\n        vertical-align: top;\n    }\n\n    .dataframe thead th {\n        text-align: right;\n    }\n</style>\n<table border=\"1\" class=\"dataframe\">\n  <thead>\n    <tr style=\"text-align: right;\">\n      <th></th>\n      <th>rate</th>\n      <th>epochs</th>\n      <th>method</th>\n      <th>accuracy</th>\n      <th>precision</th>\n      <th>recall</th>\n      <th>f1</th>\n      <th>train_loss</th>\n      <th>test_loss</th>\n    </tr>\n  </thead>\n  <tbody>\n    <tr>\n      <th>0</th>\n      <td>1.000</td>\n      <td>100</td>\n      <td>0</td>\n      <td>0.814607</td>\n      <td>0.750000</td>\n      <td>0.738462</td>\n      <td>0.744186</td>\n      <td>0.465608</td>\n      <td>4.695721</td>\n    </tr>\n    <tr>\n      <th>1</th>\n      <td>1.000</td>\n      <td>500</td>\n      <td>0</td>\n      <td>0.803371</td>\n      <td>0.720588</td>\n      <td>0.753846</td>\n      <td>0.736842</td>\n      <td>0.445186</td>\n      <td>4.980310</td>\n    </tr>\n    <tr>\n      <th>2</th>\n      <td>1.000</td>\n      <td>1000</td>\n      <td>0</td>\n      <td>0.792135</td>\n      <td>0.705882</td>\n      <td>0.738462</td>\n      <td>0.721805</td>\n      <td>0.441738</td>\n      <td>5.264900</td>\n    </tr>\n    <tr>\n      <th>3</th>\n      <td>0.100</td>\n      <td>100</td>\n      <td>0</td>\n      <td>0.735955</td>\n      <td>0.950000</td>\n      <td>0.292308</td>\n      <td>0.447059</td>\n      <td>0.558892</td>\n      <td>6.687845</td>\n    </tr>\n    <tr>\n      <th>4</th>\n      <td>0.100</td>\n      <td>500</td>\n      <td>0</td>\n      <td>0.808989</td>\n      <td>0.754098</td>\n      <td>0.707692</td>\n      <td>0.730159</td>\n      <td>0.481415</td>\n      <td>4.838016</td>\n    </tr>\n    <tr>\n      <th>5</th>\n      <td>0.100</td>\n      <td>1000</td>\n      <td>0</td>\n      <td>0.814607</td>\n      <td>0.750000</td>\n      <td>0.738462</td>\n      <td>0.744186</td>\n      <td>0.465537</td>\n      <td>4.695721</td>\n    </tr>\n    <tr>\n      <th>6</th>\n      <td>0.010</td>\n      <td>100</td>\n      <td>0</td>\n      <td>0.634831</td>\n      <td>0.000000</td>\n      <td>0.000000</td>\n      <td>0.000000</td>\n      <td>0.641314</td>\n      <td>9.249148</td>\n    </tr>\n    <tr>\n      <th>7</th>\n      <td>0.010</td>\n      <td>500</td>\n      <td>0</td>\n      <td>0.662921</td>\n      <td>1.000000</td>\n      <td>0.076923</td>\n      <td>0.142857</td>\n      <td>0.590820</td>\n      <td>8.537675</td>\n    </tr>\n    <tr>\n      <th>8</th>\n      <td>0.010</td>\n      <td>1000</td>\n      <td>0</td>\n      <td>0.735955</td>\n      <td>0.950000</td>\n      <td>0.292308</td>\n      <td>0.447059</td>\n      <td>0.558506</td>\n      <td>6.687845</td>\n    </tr>\n    <tr>\n      <th>9</th>\n      <td>0.001</td>\n      <td>100</td>\n      <td>0</td>\n      <td>0.634831</td>\n      <td>0.000000</td>\n      <td>0.000000</td>\n      <td>0.000000</td>\n      <td>0.684946</td>\n      <td>9.249148</td>\n    </tr>\n    <tr>\n      <th>10</th>\n      <td>0.001</td>\n      <td>500</td>\n      <td>0</td>\n      <td>0.634831</td>\n      <td>0.000000</td>\n      <td>0.000000</td>\n      <td>0.000000</td>\n      <td>0.660137</td>\n      <td>9.249148</td>\n    </tr>\n    <tr>\n      <th>11</th>\n      <td>0.001</td>\n      <td>1000</td>\n      <td>0</td>\n      <td>0.634831</td>\n      <td>0.000000</td>\n      <td>0.000000</td>\n      <td>0.000000</td>\n      <td>0.641109</td>\n      <td>9.249148</td>\n    </tr>\n    <tr>\n      <th>12</th>\n      <td>1.000</td>\n      <td>100</td>\n      <td>1</td>\n      <td>0.803371</td>\n      <td>0.727273</td>\n      <td>0.738462</td>\n      <td>0.732824</td>\n      <td>0.640923</td>\n      <td>4.980310</td>\n    </tr>\n    <tr>\n      <th>13</th>\n      <td>1.000</td>\n      <td>500</td>\n      <td>1</td>\n      <td>0.803371</td>\n      <td>0.727273</td>\n      <td>0.738462</td>\n      <td>0.732824</td>\n      <td>0.522277</td>\n      <td>4.980310</td>\n    </tr>\n    <tr>\n      <th>14</th>\n      <td>1.000</td>\n      <td>1000</td>\n      <td>1</td>\n      <td>0.797753</td>\n      <td>0.723077</td>\n      <td>0.723077</td>\n      <td>0.723077</td>\n      <td>0.466868</td>\n      <td>5.122605</td>\n    </tr>\n    <tr>\n      <th>15</th>\n      <td>0.100</td>\n      <td>100</td>\n      <td>1</td>\n      <td>0.803371</td>\n      <td>0.727273</td>\n      <td>0.738462</td>\n      <td>0.732824</td>\n      <td>0.640923</td>\n      <td>4.980310</td>\n    </tr>\n    <tr>\n      <th>16</th>\n      <td>0.100</td>\n      <td>500</td>\n      <td>1</td>\n      <td>0.803371</td>\n      <td>0.727273</td>\n      <td>0.738462</td>\n      <td>0.732824</td>\n      <td>0.522277</td>\n      <td>4.980310</td>\n    </tr>\n    <tr>\n      <th>17</th>\n      <td>0.100</td>\n      <td>1000</td>\n      <td>1</td>\n      <td>0.797753</td>\n      <td>0.723077</td>\n      <td>0.723077</td>\n      <td>0.723077</td>\n      <td>0.466868</td>\n      <td>5.122605</td>\n    </tr>\n    <tr>\n      <th>18</th>\n      <td>0.010</td>\n      <td>100</td>\n      <td>1</td>\n      <td>0.803371</td>\n      <td>0.727273</td>\n      <td>0.738462</td>\n      <td>0.732824</td>\n      <td>0.640923</td>\n      <td>4.980310</td>\n    </tr>\n    <tr>\n      <th>19</th>\n      <td>0.010</td>\n      <td>500</td>\n      <td>1</td>\n      <td>0.803371</td>\n      <td>0.727273</td>\n      <td>0.738462</td>\n      <td>0.732824</td>\n      <td>0.522277</td>\n      <td>4.980310</td>\n    </tr>\n    <tr>\n      <th>20</th>\n      <td>0.010</td>\n      <td>1000</td>\n      <td>1</td>\n      <td>0.797753</td>\n      <td>0.723077</td>\n      <td>0.723077</td>\n      <td>0.723077</td>\n      <td>0.466868</td>\n      <td>5.122605</td>\n    </tr>\n    <tr>\n      <th>21</th>\n      <td>0.001</td>\n      <td>100</td>\n      <td>1</td>\n      <td>0.803371</td>\n      <td>0.727273</td>\n      <td>0.738462</td>\n      <td>0.732824</td>\n      <td>0.640923</td>\n      <td>4.980310</td>\n    </tr>\n    <tr>\n      <th>22</th>\n      <td>0.001</td>\n      <td>500</td>\n      <td>1</td>\n      <td>0.803371</td>\n      <td>0.727273</td>\n      <td>0.738462</td>\n      <td>0.732824</td>\n      <td>0.522277</td>\n      <td>4.980310</td>\n    </tr>\n    <tr>\n      <th>23</th>\n      <td>0.001</td>\n      <td>1000</td>\n      <td>1</td>\n      <td>0.797753</td>\n      <td>0.723077</td>\n      <td>0.723077</td>\n      <td>0.723077</td>\n      <td>0.466868</td>\n      <td>5.122605</td>\n    </tr>\n  </tbody>\n</table>\n</div>"
     },
     "execution_count": 276,
     "metadata": {},
     "output_type": "execute_result"
    }
   ],
   "source": [
    "var_rate = np.array([1, 0.1, 0.01, 0.001])\n",
    "var_epoch = np.array([100, 500, 1000])\n",
    "var_method = np.array([0, 1])\n",
    "vars = comb([var_rate, var_epoch, var_method])\n",
    "\n",
    "vars_out = []\n",
    "for i in tqdm(vars):\n",
    "    conf = LRParams.from_np(i)\n",
    "    result = runner(conf)\n",
    "    vars_out.append({**asdict(conf), **result})\n",
    "\n",
    "results = pd.DataFrame(vars_out)\n",
    "results"
   ],
   "metadata": {
    "collapsed": false,
    "ExecuteTime": {
     "end_time": "2024-10-30T13:27:30.368683002Z",
     "start_time": "2024-10-30T13:27:11.808784595Z"
    }
   },
   "id": "344a6e5688813b1"
  },
  {
   "cell_type": "code",
   "execution_count": 278,
   "outputs": [
    {
     "data": {
      "application/vnd.plotly.v1+json": {
       "data": [
        {
         "hovertemplate": "variable=0<br>index=%{x}<br>value=%{y}<extra></extra>",
         "legendgroup": "0",
         "line": {
          "color": "#636efa",
          "dash": "solid"
         },
         "marker": {
          "symbol": "circle"
         },
         "mode": "lines",
         "name": "0",
         "orientation": "v",
         "showlegend": true,
         "x": [
          0,
          1,
          2,
          3,
          4,
          5,
          6,
          7,
          8,
          9,
          10,
          11,
          12,
          13,
          14,
          15,
          16,
          17,
          18,
          19,
          20,
          21,
          22,
          23,
          24,
          25,
          26,
          27,
          28,
          29,
          30,
          31,
          32,
          33,
          34,
          35,
          36,
          37,
          38,
          39,
          40,
          41,
          42,
          43,
          44,
          45,
          46,
          47,
          48,
          49,
          50,
          51,
          52,
          53,
          54,
          55,
          56,
          57,
          58,
          59,
          60,
          61,
          62,
          63,
          64,
          65,
          66,
          67,
          68,
          69,
          70,
          71,
          72,
          73,
          74,
          75,
          76,
          77,
          78,
          79,
          80,
          81,
          82,
          83,
          84,
          85,
          86,
          87,
          88,
          89,
          90,
          91,
          92,
          93,
          94,
          95,
          96,
          97,
          98,
          99
         ],
         "xaxis": "x",
         "y": [
          0.6931471805599453,
          0.6321560977192252,
          0.6169738392215709,
          0.6068498571169465,
          0.5979679949397951,
          0.5898213072583505,
          0.582296508796348,
          0.5753361313103389,
          0.5688934131757636,
          0.562925919199962,
          0.5573945557973858,
          0.552263319271371,
          0.5474991232525955,
          0.5430716230035146,
          0.5389530330365545,
          0.5351179431222604,
          0.5315431371977974,
          0.5282074183685499,
          0.5250914421193795,
          0.5221775590435923,
          0.51944966779665,
          0.5168930785391298,
          0.5144943868133164,
          0.5122413575724729,
          0.5101228189294345,
          0.5081285650942673,
          0.5062492679154758,
          0.5044763964146716,
          0.5028021437022108,
          0.5012193606744516,
          0.49972149591697174,
          0.49830254126849144,
          0.4969569825345918,
          0.4956797548765042,
          0.49446620243682277,
          0.49331204179991045,
          0.49221332891934166,
          0.49116642917749465,
          0.49016799027312724,
          0.48921491766130015,
          0.48830435229632335,
          0.4874336504525433,
          0.4866003654198154,
          0.4858022308905521,
          0.4850371458734143,
          0.4843031609851542,
          0.48359846598696843,
          0.4829213784451051,
          0.4822703334075222,
          0.48164387399923153,
          0.4810406428487129,
          0.4804593742665305,
          0.47989888710515044,
          0.479358078236008,
          0.4788359165862158,
          0.4783314376829799,
          0.47784373865890684,
          0.47737197367595435,
          0.4769153497299047,
          0.47647312280092696,
          0.4760445943191213,
          0.4756291079169199,
          0.47522604644290567,
          0.47483482921402176,
          0.47445490948532154,
          0.4740857721183611,
          0.4737269314311032,
          0.47337792921378735,
          0.47303833289665403,
          0.4727077338567067,
          0.4723857458518573,
          0.4720720035718599,
          0.47176616129638804,
          0.47146789165147224,
          0.4711768844562958,
          0.470892845653052,
          0.47061549631320576,
          0.4703445717140805,
          0.4700798204802221,
          0.469821003784461,
          0.46956789460403536,
          0.4693202770275254,
          0.4690779456087088,
          0.46884070476377676,
          0.46860836820863744,
          0.468380758433314,
          0.46815770621068264,
          0.46793905013702203,
          0.4677246362020544,
          0.46751431738633775,
          0.4673079532840452,
          0.46710540974932147,
          0.4669065585645473,
          0.4667112771289759,
          0.4665194481663221,
          0.46633095944999664,
          0.4661457035447756,
          0.46596357756378903,
          0.46578448293979646,
          0.4656083252097935
         ],
         "yaxis": "y",
         "type": "scatter"
        }
       ],
       "layout": {
        "template": {
         "data": {
          "histogram2dcontour": [
           {
            "type": "histogram2dcontour",
            "colorbar": {
             "outlinewidth": 0,
             "ticks": ""
            },
            "colorscale": [
             [
              0.0,
              "#0d0887"
             ],
             [
              0.1111111111111111,
              "#46039f"
             ],
             [
              0.2222222222222222,
              "#7201a8"
             ],
             [
              0.3333333333333333,
              "#9c179e"
             ],
             [
              0.4444444444444444,
              "#bd3786"
             ],
             [
              0.5555555555555556,
              "#d8576b"
             ],
             [
              0.6666666666666666,
              "#ed7953"
             ],
             [
              0.7777777777777778,
              "#fb9f3a"
             ],
             [
              0.8888888888888888,
              "#fdca26"
             ],
             [
              1.0,
              "#f0f921"
             ]
            ]
           }
          ],
          "choropleth": [
           {
            "type": "choropleth",
            "colorbar": {
             "outlinewidth": 0,
             "ticks": ""
            }
           }
          ],
          "histogram2d": [
           {
            "type": "histogram2d",
            "colorbar": {
             "outlinewidth": 0,
             "ticks": ""
            },
            "colorscale": [
             [
              0.0,
              "#0d0887"
             ],
             [
              0.1111111111111111,
              "#46039f"
             ],
             [
              0.2222222222222222,
              "#7201a8"
             ],
             [
              0.3333333333333333,
              "#9c179e"
             ],
             [
              0.4444444444444444,
              "#bd3786"
             ],
             [
              0.5555555555555556,
              "#d8576b"
             ],
             [
              0.6666666666666666,
              "#ed7953"
             ],
             [
              0.7777777777777778,
              "#fb9f3a"
             ],
             [
              0.8888888888888888,
              "#fdca26"
             ],
             [
              1.0,
              "#f0f921"
             ]
            ]
           }
          ],
          "heatmap": [
           {
            "type": "heatmap",
            "colorbar": {
             "outlinewidth": 0,
             "ticks": ""
            },
            "colorscale": [
             [
              0.0,
              "#0d0887"
             ],
             [
              0.1111111111111111,
              "#46039f"
             ],
             [
              0.2222222222222222,
              "#7201a8"
             ],
             [
              0.3333333333333333,
              "#9c179e"
             ],
             [
              0.4444444444444444,
              "#bd3786"
             ],
             [
              0.5555555555555556,
              "#d8576b"
             ],
             [
              0.6666666666666666,
              "#ed7953"
             ],
             [
              0.7777777777777778,
              "#fb9f3a"
             ],
             [
              0.8888888888888888,
              "#fdca26"
             ],
             [
              1.0,
              "#f0f921"
             ]
            ]
           }
          ],
          "heatmapgl": [
           {
            "type": "heatmapgl",
            "colorbar": {
             "outlinewidth": 0,
             "ticks": ""
            },
            "colorscale": [
             [
              0.0,
              "#0d0887"
             ],
             [
              0.1111111111111111,
              "#46039f"
             ],
             [
              0.2222222222222222,
              "#7201a8"
             ],
             [
              0.3333333333333333,
              "#9c179e"
             ],
             [
              0.4444444444444444,
              "#bd3786"
             ],
             [
              0.5555555555555556,
              "#d8576b"
             ],
             [
              0.6666666666666666,
              "#ed7953"
             ],
             [
              0.7777777777777778,
              "#fb9f3a"
             ],
             [
              0.8888888888888888,
              "#fdca26"
             ],
             [
              1.0,
              "#f0f921"
             ]
            ]
           }
          ],
          "contourcarpet": [
           {
            "type": "contourcarpet",
            "colorbar": {
             "outlinewidth": 0,
             "ticks": ""
            }
           }
          ],
          "contour": [
           {
            "type": "contour",
            "colorbar": {
             "outlinewidth": 0,
             "ticks": ""
            },
            "colorscale": [
             [
              0.0,
              "#0d0887"
             ],
             [
              0.1111111111111111,
              "#46039f"
             ],
             [
              0.2222222222222222,
              "#7201a8"
             ],
             [
              0.3333333333333333,
              "#9c179e"
             ],
             [
              0.4444444444444444,
              "#bd3786"
             ],
             [
              0.5555555555555556,
              "#d8576b"
             ],
             [
              0.6666666666666666,
              "#ed7953"
             ],
             [
              0.7777777777777778,
              "#fb9f3a"
             ],
             [
              0.8888888888888888,
              "#fdca26"
             ],
             [
              1.0,
              "#f0f921"
             ]
            ]
           }
          ],
          "surface": [
           {
            "type": "surface",
            "colorbar": {
             "outlinewidth": 0,
             "ticks": ""
            },
            "colorscale": [
             [
              0.0,
              "#0d0887"
             ],
             [
              0.1111111111111111,
              "#46039f"
             ],
             [
              0.2222222222222222,
              "#7201a8"
             ],
             [
              0.3333333333333333,
              "#9c179e"
             ],
             [
              0.4444444444444444,
              "#bd3786"
             ],
             [
              0.5555555555555556,
              "#d8576b"
             ],
             [
              0.6666666666666666,
              "#ed7953"
             ],
             [
              0.7777777777777778,
              "#fb9f3a"
             ],
             [
              0.8888888888888888,
              "#fdca26"
             ],
             [
              1.0,
              "#f0f921"
             ]
            ]
           }
          ],
          "mesh3d": [
           {
            "type": "mesh3d",
            "colorbar": {
             "outlinewidth": 0,
             "ticks": ""
            }
           }
          ],
          "scatter": [
           {
            "marker": {
             "line": {
              "color": "#283442"
             }
            },
            "type": "scatter"
           }
          ],
          "parcoords": [
           {
            "type": "parcoords",
            "line": {
             "colorbar": {
              "outlinewidth": 0,
              "ticks": ""
             }
            }
           }
          ],
          "scatterpolargl": [
           {
            "type": "scatterpolargl",
            "marker": {
             "colorbar": {
              "outlinewidth": 0,
              "ticks": ""
             }
            }
           }
          ],
          "bar": [
           {
            "error_x": {
             "color": "#f2f5fa"
            },
            "error_y": {
             "color": "#f2f5fa"
            },
            "marker": {
             "line": {
              "color": "rgb(17,17,17)",
              "width": 0.5
             },
             "pattern": {
              "fillmode": "overlay",
              "size": 10,
              "solidity": 0.2
             }
            },
            "type": "bar"
           }
          ],
          "scattergeo": [
           {
            "type": "scattergeo",
            "marker": {
             "colorbar": {
              "outlinewidth": 0,
              "ticks": ""
             }
            }
           }
          ],
          "scatterpolar": [
           {
            "type": "scatterpolar",
            "marker": {
             "colorbar": {
              "outlinewidth": 0,
              "ticks": ""
             }
            }
           }
          ],
          "histogram": [
           {
            "marker": {
             "pattern": {
              "fillmode": "overlay",
              "size": 10,
              "solidity": 0.2
             }
            },
            "type": "histogram"
           }
          ],
          "scattergl": [
           {
            "marker": {
             "line": {
              "color": "#283442"
             }
            },
            "type": "scattergl"
           }
          ],
          "scatter3d": [
           {
            "type": "scatter3d",
            "line": {
             "colorbar": {
              "outlinewidth": 0,
              "ticks": ""
             }
            },
            "marker": {
             "colorbar": {
              "outlinewidth": 0,
              "ticks": ""
             }
            }
           }
          ],
          "scattermapbox": [
           {
            "type": "scattermapbox",
            "marker": {
             "colorbar": {
              "outlinewidth": 0,
              "ticks": ""
             }
            }
           }
          ],
          "scatterternary": [
           {
            "type": "scatterternary",
            "marker": {
             "colorbar": {
              "outlinewidth": 0,
              "ticks": ""
             }
            }
           }
          ],
          "scattercarpet": [
           {
            "type": "scattercarpet",
            "marker": {
             "colorbar": {
              "outlinewidth": 0,
              "ticks": ""
             }
            }
           }
          ],
          "carpet": [
           {
            "aaxis": {
             "endlinecolor": "#A2B1C6",
             "gridcolor": "#506784",
             "linecolor": "#506784",
             "minorgridcolor": "#506784",
             "startlinecolor": "#A2B1C6"
            },
            "baxis": {
             "endlinecolor": "#A2B1C6",
             "gridcolor": "#506784",
             "linecolor": "#506784",
             "minorgridcolor": "#506784",
             "startlinecolor": "#A2B1C6"
            },
            "type": "carpet"
           }
          ],
          "table": [
           {
            "cells": {
             "fill": {
              "color": "#506784"
             },
             "line": {
              "color": "rgb(17,17,17)"
             }
            },
            "header": {
             "fill": {
              "color": "#2a3f5f"
             },
             "line": {
              "color": "rgb(17,17,17)"
             }
            },
            "type": "table"
           }
          ],
          "barpolar": [
           {
            "marker": {
             "line": {
              "color": "rgb(17,17,17)",
              "width": 0.5
             },
             "pattern": {
              "fillmode": "overlay",
              "size": 10,
              "solidity": 0.2
             }
            },
            "type": "barpolar"
           }
          ],
          "pie": [
           {
            "automargin": true,
            "type": "pie"
           }
          ]
         },
         "layout": {
          "autotypenumbers": "strict",
          "colorway": [
           "#636efa",
           "#EF553B",
           "#00cc96",
           "#ab63fa",
           "#FFA15A",
           "#19d3f3",
           "#FF6692",
           "#B6E880",
           "#FF97FF",
           "#FECB52"
          ],
          "font": {
           "color": "#f2f5fa"
          },
          "hovermode": "closest",
          "hoverlabel": {
           "align": "left"
          },
          "paper_bgcolor": "rgb(17,17,17)",
          "plot_bgcolor": "rgb(17,17,17)",
          "polar": {
           "bgcolor": "rgb(17,17,17)",
           "angularaxis": {
            "gridcolor": "#506784",
            "linecolor": "#506784",
            "ticks": ""
           },
           "radialaxis": {
            "gridcolor": "#506784",
            "linecolor": "#506784",
            "ticks": ""
           }
          },
          "ternary": {
           "bgcolor": "rgb(17,17,17)",
           "aaxis": {
            "gridcolor": "#506784",
            "linecolor": "#506784",
            "ticks": ""
           },
           "baxis": {
            "gridcolor": "#506784",
            "linecolor": "#506784",
            "ticks": ""
           },
           "caxis": {
            "gridcolor": "#506784",
            "linecolor": "#506784",
            "ticks": ""
           }
          },
          "coloraxis": {
           "colorbar": {
            "outlinewidth": 0,
            "ticks": ""
           }
          },
          "colorscale": {
           "sequential": [
            [
             0.0,
             "#0d0887"
            ],
            [
             0.1111111111111111,
             "#46039f"
            ],
            [
             0.2222222222222222,
             "#7201a8"
            ],
            [
             0.3333333333333333,
             "#9c179e"
            ],
            [
             0.4444444444444444,
             "#bd3786"
            ],
            [
             0.5555555555555556,
             "#d8576b"
            ],
            [
             0.6666666666666666,
             "#ed7953"
            ],
            [
             0.7777777777777778,
             "#fb9f3a"
            ],
            [
             0.8888888888888888,
             "#fdca26"
            ],
            [
             1.0,
             "#f0f921"
            ]
           ],
           "sequentialminus": [
            [
             0.0,
             "#0d0887"
            ],
            [
             0.1111111111111111,
             "#46039f"
            ],
            [
             0.2222222222222222,
             "#7201a8"
            ],
            [
             0.3333333333333333,
             "#9c179e"
            ],
            [
             0.4444444444444444,
             "#bd3786"
            ],
            [
             0.5555555555555556,
             "#d8576b"
            ],
            [
             0.6666666666666666,
             "#ed7953"
            ],
            [
             0.7777777777777778,
             "#fb9f3a"
            ],
            [
             0.8888888888888888,
             "#fdca26"
            ],
            [
             1.0,
             "#f0f921"
            ]
           ],
           "diverging": [
            [
             0,
             "#8e0152"
            ],
            [
             0.1,
             "#c51b7d"
            ],
            [
             0.2,
             "#de77ae"
            ],
            [
             0.3,
             "#f1b6da"
            ],
            [
             0.4,
             "#fde0ef"
            ],
            [
             0.5,
             "#f7f7f7"
            ],
            [
             0.6,
             "#e6f5d0"
            ],
            [
             0.7,
             "#b8e186"
            ],
            [
             0.8,
             "#7fbc41"
            ],
            [
             0.9,
             "#4d9221"
            ],
            [
             1,
             "#276419"
            ]
           ]
          },
          "xaxis": {
           "gridcolor": "#283442",
           "linecolor": "#506784",
           "ticks": "",
           "title": {
            "standoff": 15
           },
           "zerolinecolor": "#283442",
           "automargin": true,
           "zerolinewidth": 2
          },
          "yaxis": {
           "gridcolor": "#283442",
           "linecolor": "#506784",
           "ticks": "",
           "title": {
            "standoff": 15
           },
           "zerolinecolor": "#283442",
           "automargin": true,
           "zerolinewidth": 2
          },
          "scene": {
           "xaxis": {
            "backgroundcolor": "rgb(17,17,17)",
            "gridcolor": "#506784",
            "linecolor": "#506784",
            "showbackground": true,
            "ticks": "",
            "zerolinecolor": "#C8D4E3",
            "gridwidth": 2
           },
           "yaxis": {
            "backgroundcolor": "rgb(17,17,17)",
            "gridcolor": "#506784",
            "linecolor": "#506784",
            "showbackground": true,
            "ticks": "",
            "zerolinecolor": "#C8D4E3",
            "gridwidth": 2
           },
           "zaxis": {
            "backgroundcolor": "rgb(17,17,17)",
            "gridcolor": "#506784",
            "linecolor": "#506784",
            "showbackground": true,
            "ticks": "",
            "zerolinecolor": "#C8D4E3",
            "gridwidth": 2
           }
          },
          "shapedefaults": {
           "line": {
            "color": "#f2f5fa"
           }
          },
          "annotationdefaults": {
           "arrowcolor": "#f2f5fa",
           "arrowhead": 0,
           "arrowwidth": 1
          },
          "geo": {
           "bgcolor": "rgb(17,17,17)",
           "landcolor": "rgb(17,17,17)",
           "subunitcolor": "#506784",
           "showland": true,
           "showlakes": true,
           "lakecolor": "rgb(17,17,17)"
          },
          "title": {
           "x": 0.05
          },
          "updatemenudefaults": {
           "bgcolor": "#506784",
           "borderwidth": 0
          },
          "sliderdefaults": {
           "bgcolor": "#C8D4E3",
           "borderwidth": 1,
           "bordercolor": "rgb(17,17,17)",
           "tickwidth": 0
          },
          "mapbox": {
           "style": "dark"
          }
         }
        },
        "xaxis": {
         "anchor": "y",
         "domain": [
          0.0,
          1.0
         ],
         "title": {
          "text": "index"
         }
        },
        "yaxis": {
         "anchor": "x",
         "domain": [
          0.0,
          1.0
         ],
         "title": {
          "text": "value"
         }
        },
        "legend": {
         "title": {
          "text": "variable"
         },
         "tracegroupgap": 0
        },
        "margin": {
         "t": 60
        }
       },
       "config": {
        "plotlyServerURL": "https://plot.ly"
       }
      },
      "text/html": "<div>                            <div id=\"3ffd962f-4389-4198-9839-9f39ab5b775d\" class=\"plotly-graph-div\" style=\"height:525px; width:100%;\"></div>            <script type=\"text/javascript\">                require([\"plotly\"], function(Plotly) {                    window.PLOTLYENV=window.PLOTLYENV || {};                                    if (document.getElementById(\"3ffd962f-4389-4198-9839-9f39ab5b775d\")) {                    Plotly.newPlot(                        \"3ffd962f-4389-4198-9839-9f39ab5b775d\",                        [{\"hovertemplate\":\"variable=0\\u003cbr\\u003eindex=%{x}\\u003cbr\\u003evalue=%{y}\\u003cextra\\u003e\\u003c\\u002fextra\\u003e\",\"legendgroup\":\"0\",\"line\":{\"color\":\"#636efa\",\"dash\":\"solid\"},\"marker\":{\"symbol\":\"circle\"},\"mode\":\"lines\",\"name\":\"0\",\"orientation\":\"v\",\"showlegend\":true,\"x\":[0,1,2,3,4,5,6,7,8,9,10,11,12,13,14,15,16,17,18,19,20,21,22,23,24,25,26,27,28,29,30,31,32,33,34,35,36,37,38,39,40,41,42,43,44,45,46,47,48,49,50,51,52,53,54,55,56,57,58,59,60,61,62,63,64,65,66,67,68,69,70,71,72,73,74,75,76,77,78,79,80,81,82,83,84,85,86,87,88,89,90,91,92,93,94,95,96,97,98,99],\"xaxis\":\"x\",\"y\":[0.6931471805599453,0.6321560977192252,0.6169738392215709,0.6068498571169465,0.5979679949397951,0.5898213072583505,0.582296508796348,0.5753361313103389,0.5688934131757636,0.562925919199962,0.5573945557973858,0.552263319271371,0.5474991232525955,0.5430716230035146,0.5389530330365545,0.5351179431222604,0.5315431371977974,0.5282074183685499,0.5250914421193795,0.5221775590435923,0.51944966779665,0.5168930785391298,0.5144943868133164,0.5122413575724729,0.5101228189294345,0.5081285650942673,0.5062492679154758,0.5044763964146716,0.5028021437022108,0.5012193606744516,0.49972149591697174,0.49830254126849144,0.4969569825345918,0.4956797548765042,0.49446620243682277,0.49331204179991045,0.49221332891934166,0.49116642917749465,0.49016799027312724,0.48921491766130015,0.48830435229632335,0.4874336504525433,0.4866003654198154,0.4858022308905521,0.4850371458734143,0.4843031609851542,0.48359846598696843,0.4829213784451051,0.4822703334075222,0.48164387399923153,0.4810406428487129,0.4804593742665305,0.47989888710515044,0.479358078236008,0.4788359165862158,0.4783314376829799,0.47784373865890684,0.47737197367595435,0.4769153497299047,0.47647312280092696,0.4760445943191213,0.4756291079169199,0.47522604644290567,0.47483482921402176,0.47445490948532154,0.4740857721183611,0.4737269314311032,0.47337792921378735,0.47303833289665403,0.4727077338567067,0.4723857458518573,0.4720720035718599,0.47176616129638804,0.47146789165147224,0.4711768844562958,0.470892845653052,0.47061549631320576,0.4703445717140805,0.4700798204802221,0.469821003784461,0.46956789460403536,0.4693202770275254,0.4690779456087088,0.46884070476377676,0.46860836820863744,0.468380758433314,0.46815770621068264,0.46793905013702203,0.4677246362020544,0.46751431738633775,0.4673079532840452,0.46710540974932147,0.4669065585645473,0.4667112771289759,0.4665194481663221,0.46633095944999664,0.4661457035447756,0.46596357756378903,0.46578448293979646,0.4656083252097935],\"yaxis\":\"y\",\"type\":\"scatter\"}],                        {\"template\":{\"data\":{\"histogram2dcontour\":[{\"type\":\"histogram2dcontour\",\"colorbar\":{\"outlinewidth\":0,\"ticks\":\"\"},\"colorscale\":[[0.0,\"#0d0887\"],[0.1111111111111111,\"#46039f\"],[0.2222222222222222,\"#7201a8\"],[0.3333333333333333,\"#9c179e\"],[0.4444444444444444,\"#bd3786\"],[0.5555555555555556,\"#d8576b\"],[0.6666666666666666,\"#ed7953\"],[0.7777777777777778,\"#fb9f3a\"],[0.8888888888888888,\"#fdca26\"],[1.0,\"#f0f921\"]]}],\"choropleth\":[{\"type\":\"choropleth\",\"colorbar\":{\"outlinewidth\":0,\"ticks\":\"\"}}],\"histogram2d\":[{\"type\":\"histogram2d\",\"colorbar\":{\"outlinewidth\":0,\"ticks\":\"\"},\"colorscale\":[[0.0,\"#0d0887\"],[0.1111111111111111,\"#46039f\"],[0.2222222222222222,\"#7201a8\"],[0.3333333333333333,\"#9c179e\"],[0.4444444444444444,\"#bd3786\"],[0.5555555555555556,\"#d8576b\"],[0.6666666666666666,\"#ed7953\"],[0.7777777777777778,\"#fb9f3a\"],[0.8888888888888888,\"#fdca26\"],[1.0,\"#f0f921\"]]}],\"heatmap\":[{\"type\":\"heatmap\",\"colorbar\":{\"outlinewidth\":0,\"ticks\":\"\"},\"colorscale\":[[0.0,\"#0d0887\"],[0.1111111111111111,\"#46039f\"],[0.2222222222222222,\"#7201a8\"],[0.3333333333333333,\"#9c179e\"],[0.4444444444444444,\"#bd3786\"],[0.5555555555555556,\"#d8576b\"],[0.6666666666666666,\"#ed7953\"],[0.7777777777777778,\"#fb9f3a\"],[0.8888888888888888,\"#fdca26\"],[1.0,\"#f0f921\"]]}],\"heatmapgl\":[{\"type\":\"heatmapgl\",\"colorbar\":{\"outlinewidth\":0,\"ticks\":\"\"},\"colorscale\":[[0.0,\"#0d0887\"],[0.1111111111111111,\"#46039f\"],[0.2222222222222222,\"#7201a8\"],[0.3333333333333333,\"#9c179e\"],[0.4444444444444444,\"#bd3786\"],[0.5555555555555556,\"#d8576b\"],[0.6666666666666666,\"#ed7953\"],[0.7777777777777778,\"#fb9f3a\"],[0.8888888888888888,\"#fdca26\"],[1.0,\"#f0f921\"]]}],\"contourcarpet\":[{\"type\":\"contourcarpet\",\"colorbar\":{\"outlinewidth\":0,\"ticks\":\"\"}}],\"contour\":[{\"type\":\"contour\",\"colorbar\":{\"outlinewidth\":0,\"ticks\":\"\"},\"colorscale\":[[0.0,\"#0d0887\"],[0.1111111111111111,\"#46039f\"],[0.2222222222222222,\"#7201a8\"],[0.3333333333333333,\"#9c179e\"],[0.4444444444444444,\"#bd3786\"],[0.5555555555555556,\"#d8576b\"],[0.6666666666666666,\"#ed7953\"],[0.7777777777777778,\"#fb9f3a\"],[0.8888888888888888,\"#fdca26\"],[1.0,\"#f0f921\"]]}],\"surface\":[{\"type\":\"surface\",\"colorbar\":{\"outlinewidth\":0,\"ticks\":\"\"},\"colorscale\":[[0.0,\"#0d0887\"],[0.1111111111111111,\"#46039f\"],[0.2222222222222222,\"#7201a8\"],[0.3333333333333333,\"#9c179e\"],[0.4444444444444444,\"#bd3786\"],[0.5555555555555556,\"#d8576b\"],[0.6666666666666666,\"#ed7953\"],[0.7777777777777778,\"#fb9f3a\"],[0.8888888888888888,\"#fdca26\"],[1.0,\"#f0f921\"]]}],\"mesh3d\":[{\"type\":\"mesh3d\",\"colorbar\":{\"outlinewidth\":0,\"ticks\":\"\"}}],\"scatter\":[{\"marker\":{\"line\":{\"color\":\"#283442\"}},\"type\":\"scatter\"}],\"parcoords\":[{\"type\":\"parcoords\",\"line\":{\"colorbar\":{\"outlinewidth\":0,\"ticks\":\"\"}}}],\"scatterpolargl\":[{\"type\":\"scatterpolargl\",\"marker\":{\"colorbar\":{\"outlinewidth\":0,\"ticks\":\"\"}}}],\"bar\":[{\"error_x\":{\"color\":\"#f2f5fa\"},\"error_y\":{\"color\":\"#f2f5fa\"},\"marker\":{\"line\":{\"color\":\"rgb(17,17,17)\",\"width\":0.5},\"pattern\":{\"fillmode\":\"overlay\",\"size\":10,\"solidity\":0.2}},\"type\":\"bar\"}],\"scattergeo\":[{\"type\":\"scattergeo\",\"marker\":{\"colorbar\":{\"outlinewidth\":0,\"ticks\":\"\"}}}],\"scatterpolar\":[{\"type\":\"scatterpolar\",\"marker\":{\"colorbar\":{\"outlinewidth\":0,\"ticks\":\"\"}}}],\"histogram\":[{\"marker\":{\"pattern\":{\"fillmode\":\"overlay\",\"size\":10,\"solidity\":0.2}},\"type\":\"histogram\"}],\"scattergl\":[{\"marker\":{\"line\":{\"color\":\"#283442\"}},\"type\":\"scattergl\"}],\"scatter3d\":[{\"type\":\"scatter3d\",\"line\":{\"colorbar\":{\"outlinewidth\":0,\"ticks\":\"\"}},\"marker\":{\"colorbar\":{\"outlinewidth\":0,\"ticks\":\"\"}}}],\"scattermapbox\":[{\"type\":\"scattermapbox\",\"marker\":{\"colorbar\":{\"outlinewidth\":0,\"ticks\":\"\"}}}],\"scatterternary\":[{\"type\":\"scatterternary\",\"marker\":{\"colorbar\":{\"outlinewidth\":0,\"ticks\":\"\"}}}],\"scattercarpet\":[{\"type\":\"scattercarpet\",\"marker\":{\"colorbar\":{\"outlinewidth\":0,\"ticks\":\"\"}}}],\"carpet\":[{\"aaxis\":{\"endlinecolor\":\"#A2B1C6\",\"gridcolor\":\"#506784\",\"linecolor\":\"#506784\",\"minorgridcolor\":\"#506784\",\"startlinecolor\":\"#A2B1C6\"},\"baxis\":{\"endlinecolor\":\"#A2B1C6\",\"gridcolor\":\"#506784\",\"linecolor\":\"#506784\",\"minorgridcolor\":\"#506784\",\"startlinecolor\":\"#A2B1C6\"},\"type\":\"carpet\"}],\"table\":[{\"cells\":{\"fill\":{\"color\":\"#506784\"},\"line\":{\"color\":\"rgb(17,17,17)\"}},\"header\":{\"fill\":{\"color\":\"#2a3f5f\"},\"line\":{\"color\":\"rgb(17,17,17)\"}},\"type\":\"table\"}],\"barpolar\":[{\"marker\":{\"line\":{\"color\":\"rgb(17,17,17)\",\"width\":0.5},\"pattern\":{\"fillmode\":\"overlay\",\"size\":10,\"solidity\":0.2}},\"type\":\"barpolar\"}],\"pie\":[{\"automargin\":true,\"type\":\"pie\"}]},\"layout\":{\"autotypenumbers\":\"strict\",\"colorway\":[\"#636efa\",\"#EF553B\",\"#00cc96\",\"#ab63fa\",\"#FFA15A\",\"#19d3f3\",\"#FF6692\",\"#B6E880\",\"#FF97FF\",\"#FECB52\"],\"font\":{\"color\":\"#f2f5fa\"},\"hovermode\":\"closest\",\"hoverlabel\":{\"align\":\"left\"},\"paper_bgcolor\":\"rgb(17,17,17)\",\"plot_bgcolor\":\"rgb(17,17,17)\",\"polar\":{\"bgcolor\":\"rgb(17,17,17)\",\"angularaxis\":{\"gridcolor\":\"#506784\",\"linecolor\":\"#506784\",\"ticks\":\"\"},\"radialaxis\":{\"gridcolor\":\"#506784\",\"linecolor\":\"#506784\",\"ticks\":\"\"}},\"ternary\":{\"bgcolor\":\"rgb(17,17,17)\",\"aaxis\":{\"gridcolor\":\"#506784\",\"linecolor\":\"#506784\",\"ticks\":\"\"},\"baxis\":{\"gridcolor\":\"#506784\",\"linecolor\":\"#506784\",\"ticks\":\"\"},\"caxis\":{\"gridcolor\":\"#506784\",\"linecolor\":\"#506784\",\"ticks\":\"\"}},\"coloraxis\":{\"colorbar\":{\"outlinewidth\":0,\"ticks\":\"\"}},\"colorscale\":{\"sequential\":[[0.0,\"#0d0887\"],[0.1111111111111111,\"#46039f\"],[0.2222222222222222,\"#7201a8\"],[0.3333333333333333,\"#9c179e\"],[0.4444444444444444,\"#bd3786\"],[0.5555555555555556,\"#d8576b\"],[0.6666666666666666,\"#ed7953\"],[0.7777777777777778,\"#fb9f3a\"],[0.8888888888888888,\"#fdca26\"],[1.0,\"#f0f921\"]],\"sequentialminus\":[[0.0,\"#0d0887\"],[0.1111111111111111,\"#46039f\"],[0.2222222222222222,\"#7201a8\"],[0.3333333333333333,\"#9c179e\"],[0.4444444444444444,\"#bd3786\"],[0.5555555555555556,\"#d8576b\"],[0.6666666666666666,\"#ed7953\"],[0.7777777777777778,\"#fb9f3a\"],[0.8888888888888888,\"#fdca26\"],[1.0,\"#f0f921\"]],\"diverging\":[[0,\"#8e0152\"],[0.1,\"#c51b7d\"],[0.2,\"#de77ae\"],[0.3,\"#f1b6da\"],[0.4,\"#fde0ef\"],[0.5,\"#f7f7f7\"],[0.6,\"#e6f5d0\"],[0.7,\"#b8e186\"],[0.8,\"#7fbc41\"],[0.9,\"#4d9221\"],[1,\"#276419\"]]},\"xaxis\":{\"gridcolor\":\"#283442\",\"linecolor\":\"#506784\",\"ticks\":\"\",\"title\":{\"standoff\":15},\"zerolinecolor\":\"#283442\",\"automargin\":true,\"zerolinewidth\":2},\"yaxis\":{\"gridcolor\":\"#283442\",\"linecolor\":\"#506784\",\"ticks\":\"\",\"title\":{\"standoff\":15},\"zerolinecolor\":\"#283442\",\"automargin\":true,\"zerolinewidth\":2},\"scene\":{\"xaxis\":{\"backgroundcolor\":\"rgb(17,17,17)\",\"gridcolor\":\"#506784\",\"linecolor\":\"#506784\",\"showbackground\":true,\"ticks\":\"\",\"zerolinecolor\":\"#C8D4E3\",\"gridwidth\":2},\"yaxis\":{\"backgroundcolor\":\"rgb(17,17,17)\",\"gridcolor\":\"#506784\",\"linecolor\":\"#506784\",\"showbackground\":true,\"ticks\":\"\",\"zerolinecolor\":\"#C8D4E3\",\"gridwidth\":2},\"zaxis\":{\"backgroundcolor\":\"rgb(17,17,17)\",\"gridcolor\":\"#506784\",\"linecolor\":\"#506784\",\"showbackground\":true,\"ticks\":\"\",\"zerolinecolor\":\"#C8D4E3\",\"gridwidth\":2}},\"shapedefaults\":{\"line\":{\"color\":\"#f2f5fa\"}},\"annotationdefaults\":{\"arrowcolor\":\"#f2f5fa\",\"arrowhead\":0,\"arrowwidth\":1},\"geo\":{\"bgcolor\":\"rgb(17,17,17)\",\"landcolor\":\"rgb(17,17,17)\",\"subunitcolor\":\"#506784\",\"showland\":true,\"showlakes\":true,\"lakecolor\":\"rgb(17,17,17)\"},\"title\":{\"x\":0.05},\"updatemenudefaults\":{\"bgcolor\":\"#506784\",\"borderwidth\":0},\"sliderdefaults\":{\"bgcolor\":\"#C8D4E3\",\"borderwidth\":1,\"bordercolor\":\"rgb(17,17,17)\",\"tickwidth\":0},\"mapbox\":{\"style\":\"dark\"}}},\"xaxis\":{\"anchor\":\"y\",\"domain\":[0.0,1.0],\"title\":{\"text\":\"index\"}},\"yaxis\":{\"anchor\":\"x\",\"domain\":[0.0,1.0],\"title\":{\"text\":\"value\"}},\"legend\":{\"title\":{\"text\":\"variable\"},\"tracegroupgap\":0},\"margin\":{\"t\":60}},                        {\"responsive\": true}                    ).then(function(){\n                            \nvar gd = document.getElementById('3ffd962f-4389-4198-9839-9f39ab5b775d');\nvar x = new MutationObserver(function (mutations, observer) {{\n        var display = window.getComputedStyle(gd).display;\n        if (!display || display === 'none') {{\n            console.log([gd, 'removed!']);\n            Plotly.purge(gd);\n            observer.disconnect();\n        }}\n}});\n\n// Listen for the removal of the full notebook cells\nvar notebookContainer = gd.closest('#notebook-container');\nif (notebookContainer) {{\n    x.observe(notebookContainer, {childList: true});\n}}\n\n// Listen for the clearing of the current output cell\nvar outputEl = gd.closest('.output');\nif (outputEl) {{\n    x.observe(outputEl, {childList: true});\n}}\n\n                        })                };                });            </script>        </div>"
     },
     "metadata": {},
     "output_type": "display_data"
    },
    {
     "data": {
      "text/plain": "{'accuracy': np.float64(0.8146067415730337),\n 'precision': np.float64(0.75),\n 'recall': np.float64(0.7384615384615385),\n 'f1': np.float64(0.7441860465116279),\n 'train_loss': np.float64(0.4656083252097935),\n 'test_loss': np.float64(4.6957212777215895)}"
     },
     "execution_count": 278,
     "metadata": {},
     "output_type": "execute_result"
    }
   ],
   "source": [
    "runner(LRParams(1, 100, 0), True)"
   ],
   "metadata": {
    "collapsed": false,
    "ExecuteTime": {
     "end_time": "2024-10-30T13:34:51.042934040Z",
     "start_time": "2024-10-30T13:34:50.828090384Z"
    }
   },
   "id": "a90308d9383d418c"
  }
 ],
 "metadata": {
  "kernelspec": {
   "display_name": "Python 3 (ipykernel)",
   "language": "python",
   "name": "python3"
  },
  "language_info": {
   "codemirror_mode": {
    "name": "ipython",
    "version": 3
   },
   "file_extension": ".py",
   "mimetype": "text/x-python",
   "name": "python",
   "nbconvert_exporter": "python",
   "pygments_lexer": "ipython3",
   "version": "3.11.6"
  }
 },
 "nbformat": 4,
 "nbformat_minor": 5
}
